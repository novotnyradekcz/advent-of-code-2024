{
 "cells": [
  {
   "cell_type": "markdown",
   "metadata": {},
   "source": [
    "## Advent of Code 2024"
   ]
  },
  {
   "cell_type": "markdown",
   "metadata": {},
   "source": [
    "### Day 2: Red-Nosed Reports"
   ]
  },
  {
   "cell_type": "markdown",
   "metadata": {},
   "source": [
    "#### Importing libraries"
   ]
  },
  {
   "cell_type": "code",
   "execution_count": null,
   "metadata": {},
   "outputs": [],
   "source": []
  },
  {
   "cell_type": "markdown",
   "metadata": {},
   "source": [
    "#### Loading example and input file"
   ]
  },
  {
   "cell_type": "code",
   "execution_count": 52,
   "metadata": {
    "dotnet_interactive": {
     "language": "fsharp"
    },
    "polyglot_notebook": {
     "kernelName": "fsharp"
    }
   },
   "outputs": [],
   "source": [
    "with open('example1.txt') as inputFile:\n",
    "    linesEx1 = inputFile.readlines()\n",
    "\n",
    "# with open('example2.txt') as inputFile:\n",
    "#     linesEx2 = inputFile.readlines()\n",
    "\n",
    "with open('input.txt') as inputFile:\n",
    "    lines = inputFile.readlines()"
   ]
  },
  {
   "cell_type": "markdown",
   "metadata": {},
   "source": [
    "#### Common functions"
   ]
  },
  {
   "cell_type": "code",
   "execution_count": 53,
   "metadata": {},
   "outputs": [],
   "source": [
    "def parse(input):\n",
    "\treports = []\n",
    "\t\n",
    "\tfor line in input:\n",
    "\t\tsplitline = line.strip('\\n').split(' ')\n",
    "\t\tlevels = []\n",
    "\t\tfor level in splitline:\n",
    "\t\t\tlevels.append(int(level))\n",
    "\t\treports.append(levels)\n",
    "\t\n",
    "\treturn reports\n",
    "\n",
    "def check_report(levels):\n",
    "\tunsafe = False\n",
    "\tif levels[0] == levels[1]:\n",
    "\t\tunsafe = True\n",
    "\telif levels[0] > levels[1]:\n",
    "\t\tfor i in range(len(levels) - 1):\n",
    "\t\t\tif levels[i] != levels[i + 1] + 1 and levels[i] != levels[i + 1] + 2 and levels[i] != levels[i + 1] + 3:\n",
    "\t\t\t\tunsafe = True\n",
    "\t\t\t\tbreak\n",
    "\telif levels[0] < levels[1]:\n",
    "\t\tfor i in range(len(levels) - 1):\n",
    "\t\t\tif levels[i] != levels[i + 1] - 1 and levels[i] != levels[i + 1] - 2 and levels[i] != levels[i + 1] - 3:\n",
    "\t\t\t\tunsafe = True\n",
    "\t\t\t\tbreak\n",
    "\treturn unsafe"
   ]
  },
  {
   "cell_type": "markdown",
   "metadata": {},
   "source": [
    "#### Part One"
   ]
  },
  {
   "cell_type": "code",
   "execution_count": 54,
   "metadata": {
    "dotnet_interactive": {
     "language": "fsharp"
    },
    "polyglot_notebook": {
     "kernelName": "fsharp"
    }
   },
   "outputs": [
    {
     "name": "stdout",
     "output_type": "stream",
     "text": [
      "Example input: 2\n",
      "Real input: 432\n"
     ]
    }
   ],
   "source": [
    "def part_one(inputLines):\n",
    "\treports = parse(inputLines)\n",
    "\t\n",
    "\tsafe = 0\n",
    "\tfor levels in reports:\n",
    "\t\tif check_report(levels):\n",
    "\t\t\tcontinue\n",
    "\t\tsafe += 1\n",
    "\treturn safe\n",
    "\n",
    "print(\"Example input: \" + str(part_one(linesEx1)))\n",
    "print(\"Real input: \" + str(part_one(lines)))"
   ]
  },
  {
   "cell_type": "markdown",
   "metadata": {},
   "source": [
    "#### Part Two"
   ]
  },
  {
   "cell_type": "code",
   "execution_count": 55,
   "metadata": {},
   "outputs": [
    {
     "name": "stdout",
     "output_type": "stream",
     "text": [
      "Example input: 4\n",
      "Real input: 488\n"
     ]
    }
   ],
   "source": [
    "def part_two(inputLines):\n",
    "\treports = parse(inputLines)\n",
    "\t\n",
    "\tsafe = 0\n",
    "\tfor levels in reports:\n",
    "\t\ttrimmed_unsafe = 0\n",
    "\t\tfor i in range(len(levels)):\n",
    "\t\t\ttrimmed_levels = levels.copy()\n",
    "\t\t\ttrimmed_levels.pop(i)\n",
    "\t\t\ttrimmed_unsafe += int(check_report(trimmed_levels))\n",
    "\t\tif trimmed_unsafe == len(levels) and check_report(levels):\n",
    "\t\t\tcontinue\n",
    "\t\tsafe += 1\n",
    "\treturn safe\n",
    "\n",
    "print(\"Example input: \" + str(part_two(linesEx1)))\n",
    "print(\"Real input: \" + str(part_two(lines)))"
   ]
  }
 ],
 "metadata": {
  "kernelspec": {
   "display_name": "Python 3",
   "language": "python",
   "name": "python3"
  },
  "language_info": {
   "codemirror_mode": {
    "name": "ipython",
    "version": 3
   },
   "file_extension": ".py",
   "mimetype": "text/x-python",
   "name": "python",
   "nbconvert_exporter": "python",
   "pygments_lexer": "ipython3",
   "version": "3.9.6"
  },
  "polyglot_notebook": {
   "kernelInfo": {
    "defaultKernelName": "csharp",
    "items": [
     {
      "aliases": [],
      "name": "csharp"
     }
    ]
   }
  }
 },
 "nbformat": 4,
 "nbformat_minor": 2
}
