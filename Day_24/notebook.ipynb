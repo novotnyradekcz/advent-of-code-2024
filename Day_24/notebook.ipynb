{
 "cells": [
  {
   "cell_type": "markdown",
   "metadata": {},
   "source": [
    "## Advent of Code 2024"
   ]
  },
  {
   "cell_type": "markdown",
   "metadata": {},
   "source": [
    "### Day 24: Crossed Wires"
   ]
  },
  {
   "cell_type": "markdown",
   "metadata": {},
   "source": [
    "#### Importing libraries"
   ]
  },
  {
   "cell_type": "code",
   "execution_count": 28,
   "metadata": {},
   "outputs": [],
   "source": []
  },
  {
   "cell_type": "markdown",
   "metadata": {},
   "source": [
    "#### Loading example and input file"
   ]
  },
  {
   "cell_type": "code",
   "execution_count": 151,
   "metadata": {
    "dotnet_interactive": {
     "language": "fsharp"
    },
    "polyglot_notebook": {
     "kernelName": "fsharp"
    }
   },
   "outputs": [],
   "source": [
    "with open('example1.txt') as input_file:\n",
    "    lines_ex1 = input_file.readlines()\n",
    "\n",
    "# with open('example2.txt') as inputFile:\n",
    "#     lines_ex2 = inputFile.readlines()\n",
    "\n",
    "with open('input.txt') as input_file:\n",
    "    lines = input_file.readlines()"
   ]
  },
  {
   "cell_type": "markdown",
   "metadata": {},
   "source": [
    "#### Common functions"
   ]
  },
  {
   "cell_type": "code",
   "execution_count": 152,
   "metadata": {},
   "outputs": [],
   "source": [
    "operators = {\n",
    "\t'AND': '&',\n",
    "\t'OR': '|',\n",
    "\t'XOR': '^'\n",
    "}\n",
    "\n",
    "def parse(lines):\n",
    "\ti = 0\n",
    "\twires = dict()\n",
    "\texpressions = []\n",
    "\twhile lines[i] != '\\n':\n",
    "\t\twires[lines[i][:3]] = lines[i][-2]\n",
    "\t\ti += 1\n",
    "\ti += 1\n",
    "\twhile i < len(lines):\n",
    "\t\texpression = lines[i].strip().split(' ')\n",
    "\t\texpressions.append((expression[0], operators[expression[1]], expression[2], expression[4]))\n",
    "\t\ti += 1\n",
    "\treturn wires, expressions"
   ]
  },
  {
   "cell_type": "markdown",
   "metadata": {},
   "source": [
    "#### Part One"
   ]
  },
  {
   "cell_type": "code",
   "execution_count": 153,
   "metadata": {
    "dotnet_interactive": {
     "language": "fsharp"
    },
    "polyglot_notebook": {
     "kernelName": "fsharp"
    }
   },
   "outputs": [
    {
     "name": "stdout",
     "output_type": "stream",
     "text": [
      "Example input: 2024\n",
      "Real input: 46362252142374\n"
     ]
    }
   ],
   "source": [
    "def part_one(input_lines):\n",
    "\twires, expressions = parse(input_lines)\n",
    "\n",
    "\twhile len(expressions) > 0:\n",
    "\t\ti = 0\n",
    "\t\twhile i < len(expressions):\n",
    "\t\t\tif wires.get(expressions[i][0], None) is not None and wires.get(expressions[i][2], None) is not None:\n",
    "\t\t\t\twires[expressions[i][3]] = eval(f\"{wires[expressions[i][0]]} {expressions[i][1]} {wires[expressions[i][2]]}\")\n",
    "\t\t\t\texpressions.pop(i)\n",
    "\t\t\telse:\n",
    "\t\t\t\ti += 1\n",
    "\t\n",
    "\tbinary_result = \"\"\n",
    "\tfor wire in sorted(wires):\n",
    "\t\tif wire[0] == 'z':\n",
    "\t\t\tbinary_result += str(wires[wire])\n",
    "\treturn int(''.join(reversed(binary_result)), 2)\n",
    "\n",
    "print(\"Example input: \" + str(part_one(lines_ex1)))\n",
    "print(\"Real input: \" + str(part_one(lines)))"
   ]
  },
  {
   "cell_type": "markdown",
   "metadata": {},
   "source": [
    "#### Part Two"
   ]
  },
  {
   "cell_type": "code",
   "execution_count": null,
   "metadata": {},
   "outputs": [],
   "source": [
    "# cbd,gmh,jmq,qrh,rqf,z06,z13,z38\n",
    "# looked up binary adder and found swapped wires manually in adder.txt"
   ]
  }
 ],
 "metadata": {
  "kernelspec": {
   "display_name": "Python 3",
   "language": "python",
   "name": "python3"
  },
  "language_info": {
   "codemirror_mode": {
    "name": "ipython",
    "version": 3
   },
   "file_extension": ".py",
   "mimetype": "text/x-python",
   "name": "python",
   "nbconvert_exporter": "python",
   "pygments_lexer": "ipython3",
   "version": "3.9.6"
  },
  "polyglot_notebook": {
   "kernelInfo": {
    "defaultKernelName": "csharp",
    "items": [
     {
      "aliases": [],
      "name": "csharp"
     }
    ]
   }
  }
 },
 "nbformat": 4,
 "nbformat_minor": 2
}
