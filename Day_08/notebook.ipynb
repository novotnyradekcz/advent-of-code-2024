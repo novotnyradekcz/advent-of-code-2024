{
 "cells": [
  {
   "cell_type": "markdown",
   "metadata": {},
   "source": [
    "## Advent of Code 2024"
   ]
  },
  {
   "cell_type": "markdown",
   "metadata": {},
   "source": [
    "### Day 8: Resonant Collinearity"
   ]
  },
  {
   "cell_type": "markdown",
   "metadata": {},
   "source": [
    "#### Importing libraries"
   ]
  },
  {
   "cell_type": "code",
   "execution_count": 6,
   "metadata": {},
   "outputs": [],
   "source": [
    "import itertools"
   ]
  },
  {
   "cell_type": "markdown",
   "metadata": {},
   "source": [
    "#### Loading example and input file"
   ]
  },
  {
   "cell_type": "code",
   "execution_count": 1,
   "metadata": {
    "dotnet_interactive": {
     "language": "fsharp"
    },
    "polyglot_notebook": {
     "kernelName": "fsharp"
    }
   },
   "outputs": [],
   "source": [
    "with open('example1.txt') as input_file:\n",
    "    lines_ex1 = input_file.readlines()\n",
    "\n",
    "# with open('example2.txt') as inputFile:\n",
    "#     linesEx2 = inputFile.read()\n",
    "\n",
    "with open('input.txt') as input_file:\n",
    "    lines = input_file.readlines()"
   ]
  },
  {
   "cell_type": "markdown",
   "metadata": {},
   "source": [
    "#### Common functions"
   ]
  },
  {
   "cell_type": "code",
   "execution_count": 4,
   "metadata": {},
   "outputs": [],
   "source": [
    "def parse(lines):\n",
    "\tantennas = {}\n",
    "\tfor i in range(len(lines)):\n",
    "\t\tfor j in range(len(lines[i]) - 1):\n",
    "\t\t\tif lines[i][j] != '.':\n",
    "\t\t\t\tif lines[i][j] not in antennas.keys():\n",
    "\t\t\t\t\tantennas[lines[i][j]] = set()\n",
    "\t\t\t\tantennas[lines[i][j]].add((j, i))\n",
    "\treturn len(lines[0]) - 1, len(lines), antennas"
   ]
  },
  {
   "cell_type": "markdown",
   "metadata": {},
   "source": [
    "#### Part One"
   ]
  },
  {
   "cell_type": "code",
   "execution_count": 19,
   "metadata": {
    "dotnet_interactive": {
     "language": "fsharp"
    },
    "polyglot_notebook": {
     "kernelName": "fsharp"
    }
   },
   "outputs": [
    {
     "name": "stdout",
     "output_type": "stream",
     "text": [
      "Example input: 14\n",
      "Real input: 348\n"
     ]
    }
   ],
   "source": [
    "def part_one(input_lines):\n",
    "\tmax_x, max_y, antennas = parse(input_lines)\n",
    "\n",
    "\tantinodes = set()\n",
    "\tfor antenna_type in antennas.keys():\n",
    "\t\tpairs = itertools.combinations(antennas[antenna_type], 2)\n",
    "\t\tfor pair in pairs:\n",
    "\t\t\td_x = pair[0][0] - pair[1][0]\n",
    "\t\t\td_y = pair[0][1] - pair[1][1]\n",
    "\t\t\tx_1 = pair[0][0] + d_x\n",
    "\t\t\ty_1 = pair[0][1] + d_y\n",
    "\t\t\tif x_1 >= 0 and y_1 >= 0 and x_1 < max_x and y_1 < max_y:\n",
    "\t\t\t\tantinodes.add((x_1, y_1))\n",
    "\t\t\tx_2 = pair[1][0] - d_x\n",
    "\t\t\ty_2 = pair[1][1] - d_y\n",
    "\t\t\tif x_2 >= 0 and y_2 >= 0 and x_2 < max_x and y_2 < max_y:\n",
    "\t\t\t\tantinodes.add((x_2, y_2))\n",
    "\t\t\n",
    "\treturn len(antinodes)\n",
    "\n",
    "print(\"Example input: \" + str(part_one(lines_ex1)))\n",
    "print(\"Real input: \" + str(part_one(lines)))"
   ]
  },
  {
   "cell_type": "markdown",
   "metadata": {},
   "source": [
    "#### Part Two"
   ]
  },
  {
   "cell_type": "code",
   "execution_count": 20,
   "metadata": {},
   "outputs": [
    {
     "name": "stdout",
     "output_type": "stream",
     "text": [
      "Example input: 34\n",
      "Real input: 1221\n"
     ]
    }
   ],
   "source": [
    "def part_two(input_lines):\n",
    "\tmax_x, max_y, antennas = parse(input_lines)\n",
    "\n",
    "\tantinodes = set()\n",
    "\tfor antenna_type in antennas.keys():\n",
    "\t\tpairs = itertools.combinations(antennas[antenna_type], 2)\n",
    "\t\tfor pair in pairs:\n",
    "\t\t\td_x = pair[0][0] - pair[1][0]\n",
    "\t\t\td_y = pair[0][1] - pair[1][1]\n",
    "\t\t\tfor i in range(-50, 50):\n",
    "\t\t\t\tx = pair[0][0] + i * d_x\n",
    "\t\t\t\ty = pair[0][1] + i * d_y\n",
    "\t\t\t\tif x >= 0 and y >= 0 and x < max_x and y < max_y:\n",
    "\t\t\t\t\tantinodes.add((x, y))\n",
    "\t\t\n",
    "\treturn len(antinodes)\n",
    "\n",
    "print(\"Example input: \" + str(part_two(lines_ex1)))\n",
    "print(\"Real input: \" + str(part_two(lines)))"
   ]
  }
 ],
 "metadata": {
  "kernelspec": {
   "display_name": "Python 3",
   "language": "python",
   "name": "python3"
  },
  "language_info": {
   "codemirror_mode": {
    "name": "ipython",
    "version": 3
   },
   "file_extension": ".py",
   "mimetype": "text/x-python",
   "name": "python",
   "nbconvert_exporter": "python",
   "pygments_lexer": "ipython3",
   "version": "3.9.6"
  },
  "polyglot_notebook": {
   "kernelInfo": {
    "defaultKernelName": "csharp",
    "items": [
     {
      "aliases": [],
      "name": "csharp"
     }
    ]
   }
  }
 },
 "nbformat": 4,
 "nbformat_minor": 2
}
