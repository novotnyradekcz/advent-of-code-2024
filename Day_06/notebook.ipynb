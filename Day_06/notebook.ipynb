{
 "cells": [
  {
   "cell_type": "markdown",
   "metadata": {},
   "source": [
    "## Advent of Code 2024"
   ]
  },
  {
   "cell_type": "markdown",
   "metadata": {},
   "source": [
    "### Day 6: Guard Gallivant"
   ]
  },
  {
   "cell_type": "markdown",
   "metadata": {},
   "source": [
    "#### Importing libraries"
   ]
  },
  {
   "cell_type": "code",
   "execution_count": null,
   "metadata": {},
   "outputs": [],
   "source": []
  },
  {
   "cell_type": "markdown",
   "metadata": {},
   "source": [
    "#### Loading example and input file"
   ]
  },
  {
   "cell_type": "code",
   "execution_count": 1,
   "metadata": {
    "dotnet_interactive": {
     "language": "fsharp"
    },
    "polyglot_notebook": {
     "kernelName": "fsharp"
    }
   },
   "outputs": [],
   "source": [
    "with open('example1.txt') as input_file:\n",
    "    lines_ex1 = input_file.readlines()\n",
    "\n",
    "# with open('example2.txt') as inputFile:\n",
    "#     linesEx2 = inputFile.read()\n",
    "\n",
    "with open('input.txt') as input_file:\n",
    "    lines = input_file.readlines()"
   ]
  },
  {
   "cell_type": "markdown",
   "metadata": {},
   "source": [
    "#### Common functions"
   ]
  },
  {
   "cell_type": "code",
   "execution_count": 2,
   "metadata": {},
   "outputs": [],
   "source": [
    "def parse(lines):\n",
    "\tobstacles = set()\n",
    "\tguard = None\n",
    "\tfor i in range(len(lines)):\n",
    "\t\tfor j in range(len(lines[i])):\n",
    "\t\t\tif lines[i][j] == '#':\n",
    "\t\t\t\tobstacles.add((i, j))\n",
    "\t\t\telif lines[i][j] == '^':\n",
    "\t\t\t\tguard = (i, j, 0)\n",
    "\t\t\telif lines[i][j] == '>':\n",
    "\t\t\t\tguard = (i, j, 1)\n",
    "\t\t\telif lines[i][j] == 'v':\n",
    "\t\t\t\tguard = (i, j, 2)\n",
    "\t\t\telif lines[i][j] == '<':\n",
    "\t\t\t\tguard = (i, j, 3)\n",
    "\treturn obstacles, guard\n",
    "\n",
    "def patrol(visited, obstacles, guard, max_x, max_y):\n",
    "\tloop = 0\n",
    "\twhile (guard[0] >= 0 and guard[1] >= 0 and guard[0] < max_y and guard[1] < max_x):\n",
    "\t\tloop += 1\n",
    "\t\tvisited.add((guard[0], guard[1]))\n",
    "\t\tif guard[2] == 0:\n",
    "\t\t\tnext = (guard[0] - 1, guard[1], guard[2])\n",
    "\t\telif guard[2] == 1:\n",
    "\t\t\tnext = (guard[0], guard[1] + 1, guard[2])\n",
    "\t\telif guard[2] == 2:\n",
    "\t\t\tnext = (guard[0] + 1, guard[1], guard[2])\n",
    "\t\telif guard[2] == 3:\n",
    "\t\t\tnext = (guard[0], guard[1] - 1, guard[2])\n",
    "\t\tif (next[0], next[1] ) in obstacles:\n",
    "\t\t\tguard = (guard[0], guard[1], (guard[2] + 1) % 4)\n",
    "\t\telse:\n",
    "\t\t\tguard = next\n",
    "\t\tif loop > 10000:\t# checking for loop, increase if needed\n",
    "\t\t\treturn None\n",
    "\treturn visited"
   ]
  },
  {
   "cell_type": "markdown",
   "metadata": {},
   "source": [
    "#### Part One"
   ]
  },
  {
   "cell_type": "code",
   "execution_count": 3,
   "metadata": {
    "dotnet_interactive": {
     "language": "fsharp"
    },
    "polyglot_notebook": {
     "kernelName": "fsharp"
    }
   },
   "outputs": [
    {
     "name": "stdout",
     "output_type": "stream",
     "text": [
      "Example input: 41\n",
      "Real input: 5145\n"
     ]
    }
   ],
   "source": [
    "def part_one(input_lines):\n",
    "\tvisited = set()\n",
    "\tobstacles, guard = parse(input_lines)\n",
    "\tmax_x = len(input_lines[0])\n",
    "\tmax_y = len(input_lines)\n",
    "\n",
    "\tvisited = patrol(visited, obstacles, guard, max_x, max_y)\n",
    "\n",
    "\treturn len(visited)\n",
    "\n",
    "print(\"Example input: \" + str(part_one(lines_ex1)))\n",
    "print(\"Real input: \" + str(part_one(lines)))"
   ]
  },
  {
   "cell_type": "markdown",
   "metadata": {},
   "source": [
    "#### Part Two"
   ]
  },
  {
   "cell_type": "code",
   "execution_count": null,
   "metadata": {},
   "outputs": [
    {
     "name": "stdout",
     "output_type": "stream",
     "text": [
      "Example input: 6\n",
      "Real input: 1523\n"
     ]
    }
   ],
   "source": [
    "def part_two(input_lines):\n",
    "\tvisited = set()\n",
    "\tobstacles, guard = parse(input_lines)\n",
    "\tmax_x = len(input_lines[0])\n",
    "\tmax_y = len(input_lines)\n",
    "\n",
    "\toriginally_visited = set()\n",
    "\toriginally_visited = patrol(originally_visited, obstacles, guard, max_x, max_y)\n",
    "\tnew_obstacles = 0\n",
    "\n",
    "\tfor tile in originally_visited:\n",
    "\t\tif tile not in obstacles:\n",
    "\t\t\tobstacles.add(tile)\n",
    "\t\t\tif patrol(visited, obstacles, guard, max_x, max_y) == None:\n",
    "\t\t\t\tnew_obstacles += 1\n",
    "\t\t\tobstacles.remove(tile)\n",
    "\n",
    "\treturn new_obstacles\n",
    "\n",
    "print(\"Example input: \" + str(part_two(lines_ex1)))\n",
    "print(\"Real input: \" + str(part_two(lines)))"
   ]
  }
 ],
 "metadata": {
  "kernelspec": {
   "display_name": "Python 3",
   "language": "python",
   "name": "python3"
  },
  "language_info": {
   "codemirror_mode": {
    "name": "ipython",
    "version": 3
   },
   "file_extension": ".py",
   "mimetype": "text/x-python",
   "name": "python",
   "nbconvert_exporter": "python",
   "pygments_lexer": "ipython3",
   "version": "3.9.6"
  },
  "polyglot_notebook": {
   "kernelInfo": {
    "defaultKernelName": "csharp",
    "items": [
     {
      "aliases": [],
      "name": "csharp"
     }
    ]
   }
  }
 },
 "nbformat": 4,
 "nbformat_minor": 2
}
