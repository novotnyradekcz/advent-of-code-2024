{
 "cells": [
  {
   "cell_type": "markdown",
   "metadata": {},
   "source": [
    "## Advent of Code 2024"
   ]
  },
  {
   "cell_type": "markdown",
   "metadata": {},
   "source": [
    "### Day 20: Race Condition"
   ]
  },
  {
   "cell_type": "markdown",
   "metadata": {},
   "source": [
    "#### Importing libraries"
   ]
  },
  {
   "cell_type": "code",
   "execution_count": 38,
   "metadata": {},
   "outputs": [],
   "source": [
    "from collections import deque\n",
    "from collections import defaultdict"
   ]
  },
  {
   "cell_type": "markdown",
   "metadata": {},
   "source": [
    "#### Loading example and input file"
   ]
  },
  {
   "cell_type": "code",
   "execution_count": 35,
   "metadata": {
    "dotnet_interactive": {
     "language": "fsharp"
    },
    "polyglot_notebook": {
     "kernelName": "fsharp"
    }
   },
   "outputs": [],
   "source": [
    "with open('example1.txt') as input_file:\n",
    "    lines_ex1 = input_file.readlines()\n",
    "\n",
    "# with open('example2.txt') as inputFile:\n",
    "#     lines_ex2 = inputFile.readlines()\n",
    "\n",
    "with open('input.txt') as input_file:\n",
    "    lines = input_file.readlines()"
   ]
  },
  {
   "cell_type": "markdown",
   "metadata": {},
   "source": [
    "#### Common functions"
   ]
  },
  {
   "cell_type": "code",
   "execution_count": 36,
   "metadata": {},
   "outputs": [],
   "source": [
    "def parse(lines):\n",
    "\tstart = None\n",
    "\tend = None\n",
    "\ttrack = set()\n",
    "\twalls = set()\n",
    "\tfor i in range(len(lines)):\n",
    "\t\tfor j in range(len(lines[i])):\n",
    "\t\t\tif lines[i][j] == '#':\n",
    "\t\t\t\twalls.add((i, j))\n",
    "\t\t\telif lines[i][j] == '.':\n",
    "\t\t\t\ttrack.add((i, j))\n",
    "\t\t\telif lines[i][j] == 'S':\n",
    "\t\t\t\tstart = (i, j)\n",
    "\t\t\t\ttrack.add((i, j))\n",
    "\t\t\telif lines[i][j] == 'E':\n",
    "\t\t\t\tend = (i, j)\n",
    "\t\t\t\ttrack.add((i, j))\n",
    "\treturn start, end, track, walls\n",
    "\n",
    "def find_shortest_path(maze, start, end):\n",
    "\tqueue = deque([(start, 0)])\n",
    "\tvisited = set()\n",
    "\n",
    "\twhile queue:\n",
    "\t\tposition, steps = queue.popleft()\n",
    "\t\tif position == end:\n",
    "\t\t\treturn steps\n",
    "\t\tvisited.add(position)\n",
    "\n",
    "\t\tfor dx, dy in [(-1, 0), (1, 0), (0, -1), (0, 1)]:\n",
    "\t\t\tneighbor = (position[0] + dx, position[1] + dy)\n",
    "\t\t\tif neighbor in maze and neighbor not in visited:\n",
    "\t\t\t\tvisited.add(neighbor)\n",
    "\t\t\t\tqueue.append((neighbor, steps + 1))\n",
    "\n",
    "\treturn None"
   ]
  },
  {
   "cell_type": "markdown",
   "metadata": {},
   "source": [
    "#### Part One"
   ]
  },
  {
   "cell_type": "code",
   "execution_count": 33,
   "metadata": {
    "dotnet_interactive": {
     "language": "fsharp"
    },
    "polyglot_notebook": {
     "kernelName": "fsharp"
    }
   },
   "outputs": [
    {
     "name": "stdout",
     "output_type": "stream",
     "text": [
      "Example input: 44\n",
      "Real input: 1511\n"
     ]
    }
   ],
   "source": [
    "def part_one(input_lines, saved_time=100):\n",
    "\tstart, end, track, walls = parse(input_lines)\n",
    "\n",
    "\tpotential_cheats = set()\n",
    "\tfor i in range(len(input_lines)):\n",
    "\t\tfor j in range(len(input_lines[i])):\n",
    "\t\t\tif (i, j) not in track and (((i - 1, j) in track and (i + 1, j) in track) or ((i, j - 1) in track and (i, j + 1) in track)):\n",
    "\t\t\t\tpotential_cheats.add((i, j))\n",
    "\t\n",
    "\ttrack_length = len(track) - 1\n",
    "\tgood_cheats = set()\n",
    "\t\n",
    "\tfor cheat in potential_cheats:\n",
    "\t\ttrack.add(cheat)\n",
    "\t\tif find_shortest_path(track, start, end) <= track_length - saved_time:\n",
    "\t\t\tgood_cheats.add(cheat)\n",
    "\t\ttrack.remove(cheat)\n",
    "\n",
    "\treturn len(good_cheats)\n",
    "\n",
    "print(\"Example input: \" + str(part_one(lines_ex1, 1)))\n",
    "print(\"Real input: \" + str(part_one(lines)))"
   ]
  },
  {
   "cell_type": "markdown",
   "metadata": {},
   "source": [
    "#### Part Two"
   ]
  },
  {
   "cell_type": "code",
   "execution_count": 95,
   "metadata": {},
   "outputs": [
    {
     "name": "stdout",
     "output_type": "stream",
     "text": [
      "Example input: 285\n",
      "Real input: 1020507\n"
     ]
    }
   ],
   "source": [
    "def manhattan_dist(a, b):\n",
    "\treturn abs(a[0] - b[0]) + abs(a[1] - b[1])\n",
    "\n",
    "def get_ordered_track(start, end, track):\n",
    "\tordered_track = [start]\n",
    "\twhile ordered_track[-1] != end:\n",
    "\t\tfor dx, dy in [(-1, 0), (1, 0), (0, -1), (0, 1)]:\n",
    "\t\t\tnext_step = (ordered_track[-1][0] + dx, ordered_track[-1][1] + dy)\n",
    "\t\t\tif next_step not in ordered_track and next_step in track:\n",
    "\t\t\t\tordered_track.append(next_step)\n",
    "\treturn ordered_track\n",
    "\n",
    "def part_two(input_lines, saved_time=100):\n",
    "\tstart, end, track, walls = parse(input_lines)\n",
    "\t\n",
    "\tordered_track = get_ordered_track(start, end, track)\n",
    "\n",
    "\tcheats = defaultdict(int)\n",
    "\tfor i in range(len(ordered_track) - 1):\n",
    "\t\tfor j in range(i + 1, len(ordered_track)):\n",
    "\t\t\tman_dist = manhattan_dist(ordered_track[i], ordered_track[j])\n",
    "\t\t\ttrack_dist = j - i\n",
    "\t\t\tif man_dist <= 20 and man_dist < track_dist:\n",
    "\t\t\t\tsaved_by_cheat = track_dist - man_dist\n",
    "\t\t\t\tif saved_time <= saved_by_cheat:\n",
    "\t\t\t\t\tcheats[saved_by_cheat] += 1\n",
    "\n",
    "\treturn sum(cheats.values())\t# should be 285 for example\n",
    "\n",
    "print(\"Example input: \" + str(part_two(lines_ex1, 50)))\n",
    "print(\"Real input: \" + str(part_two(lines)))"
   ]
  }
 ],
 "metadata": {
  "kernelspec": {
   "display_name": "Python 3",
   "language": "python",
   "name": "python3"
  },
  "language_info": {
   "codemirror_mode": {
    "name": "ipython",
    "version": 3
   },
   "file_extension": ".py",
   "mimetype": "text/x-python",
   "name": "python",
   "nbconvert_exporter": "python",
   "pygments_lexer": "ipython3",
   "version": "3.9.6"
  },
  "polyglot_notebook": {
   "kernelInfo": {
    "defaultKernelName": "csharp",
    "items": [
     {
      "aliases": [],
      "name": "csharp"
     }
    ]
   }
  }
 },
 "nbformat": 4,
 "nbformat_minor": 2
}
