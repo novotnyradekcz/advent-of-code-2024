{
 "cells": [
  {
   "cell_type": "markdown",
   "metadata": {},
   "source": [
    "## Advent of Code 2024"
   ]
  },
  {
   "cell_type": "markdown",
   "metadata": {},
   "source": [
    "### Day 17: Chronospatial Computer"
   ]
  },
  {
   "cell_type": "markdown",
   "metadata": {},
   "source": [
    "#### Importing libraries"
   ]
  },
  {
   "cell_type": "code",
   "execution_count": null,
   "metadata": {},
   "outputs": [],
   "source": []
  },
  {
   "cell_type": "markdown",
   "metadata": {},
   "source": [
    "#### Loading example and input file"
   ]
  },
  {
   "cell_type": "code",
   "execution_count": 2,
   "metadata": {
    "dotnet_interactive": {
     "language": "fsharp"
    },
    "polyglot_notebook": {
     "kernelName": "fsharp"
    }
   },
   "outputs": [],
   "source": [
    "with open('example1.txt') as input_file:\n",
    "    lines_ex1 = input_file.readlines()\n",
    "\n",
    "with open('example2.txt') as inputFile:\n",
    "    lines_ex2 = inputFile.readlines()\n",
    "\n",
    "with open('input.txt') as input_file:\n",
    "    lines = input_file.readlines()"
   ]
  },
  {
   "cell_type": "markdown",
   "metadata": {},
   "source": [
    "#### Common functions"
   ]
  },
  {
   "cell_type": "code",
   "execution_count": 3,
   "metadata": {},
   "outputs": [],
   "source": [
    "def parse(lines):\n",
    "\tregister = dict()\n",
    "\tabc = \"ABC\"\n",
    "\tfor i in range(3):\n",
    "\t\tregister[abc[i]] = int(lines[i].strip().split()[-1])\n",
    "\n",
    "\tprogram = []\n",
    "\tfor i in range(9, len(lines[-1]), 2):\n",
    "\t\tprogram.append(int(lines[-1][i]))\n",
    "\treturn register, program\n",
    "\n",
    "def combo(num, register):\n",
    "\tif num >=0 and num <= 3:\n",
    "\t\treturn num\n",
    "\tif num == 4:\n",
    "\t\treturn register[\"A\"]\n",
    "\tif num == 5:\n",
    "\t\treturn register[\"B\"]\n",
    "\tif num == 6:\n",
    "\t\treturn register[\"C\"]\n",
    "\tif num == 7:\n",
    "\t\treturn None\n",
    "\n",
    "def adv(operand, register):\n",
    "\treturn register[\"A\"] // 2**combo(operand, register)\t# write to register A\n",
    "\n",
    "def bxl(operand, register):\n",
    "\treturn register[\"B\"] ^ operand\t# write to register B\n",
    "\n",
    "def bst(operand, register):\n",
    "\treturn combo(operand, register) % 8\t# write to register B\n",
    "\n",
    "def jnz(operand, register):\n",
    "\tif register[\"A\"] != 0:\n",
    "\t\treturn combo(operand, register)\t# jump to instruction\n",
    "\treturn None\n",
    "\n",
    "def bxc(operand, register):\n",
    "\treturn register[\"B\"] ^ register[\"C\"]\t# write to register B\n",
    "\n",
    "def out(operand, register):\n",
    "\treturn combo(operand, register) % 8\t# output\n",
    "\n",
    "def bdv(operand, register):\n",
    "\treturn register[\"A\"] // 2**combo(operand, register)\t# write to register B\n",
    "\n",
    "def cdv(operand, register):\n",
    "\treturn register[\"A\"] // 2**combo(operand, register)\t# write to register C"
   ]
  },
  {
   "cell_type": "markdown",
   "metadata": {},
   "source": [
    "#### Part One"
   ]
  },
  {
   "cell_type": "code",
   "execution_count": 12,
   "metadata": {
    "dotnet_interactive": {
     "language": "fsharp"
    },
    "polyglot_notebook": {
     "kernelName": "fsharp"
    }
   },
   "outputs": [
    {
     "name": "stdout",
     "output_type": "stream",
     "text": [
      "Example1 input: 4,6,3,5,6,3,5,2,1,0\n",
      "Real input: 4,1,5,3,1,5,3,5,7\n"
     ]
    }
   ],
   "source": [
    "def part_one(input_lines):\n",
    "\tregister, program = parse(input_lines)\n",
    "\n",
    "\tresult = []\n",
    "\n",
    "\ti = 0\n",
    "\twhile i < len(program):\n",
    "\t\tif program[i] == 0:\n",
    "\t\t\tregister[\"A\"] = adv(program[i+1], register)\n",
    "\t\telif program[i] == 1:\n",
    "\t\t\tregister[\"B\"] = bxl(program[i+1], register)\n",
    "\t\telif program[i] == 2:\n",
    "\t\t\tregister[\"B\"] = bst(program[i+1], register)\n",
    "\t\telif program[i] == 3:\n",
    "\t\t\tjump = jnz(program[i+1], register)\n",
    "\t\t\tif jump is not None:\n",
    "\t\t\t\ti = jump\n",
    "\t\t\t\tcontinue\n",
    "\t\telif program[i] == 4:\n",
    "\t\t\tregister[\"B\"] = bxc(program[i+1], register)\n",
    "\t\telif program[i] == 5:\n",
    "\t\t\tresult.append(str(out(program[i+1], register)))\n",
    "\t\telif program[i] == 6:\n",
    "\t\t\tregister[\"B\"] = bdv(program[i+1], register)\n",
    "\t\telif program[i] == 7:\n",
    "\t\t\tregister[\"C\"] = cdv(program[i+1], register)\n",
    "\t\ti += 2\n",
    "\n",
    "\treturn \",\".join(result)\n",
    "\n",
    "print(\"Example1 input: \" + str(part_one(lines_ex1)))\n",
    "print(\"Real input: \" + str(part_one(lines)))"
   ]
  },
  {
   "cell_type": "markdown",
   "metadata": {},
   "source": [
    "#### Part Two"
   ]
  },
  {
   "cell_type": "code",
   "execution_count": null,
   "metadata": {},
   "outputs": [
    {
     "name": "stdout",
     "output_type": "stream",
     "text": [
      "Real input: 164542125272765\n"
     ]
    }
   ],
   "source": [
    "def part_two(input_lines):\n",
    "\tregister, program = parse(input_lines)\n",
    "\n",
    "\tranges = list(range(164542124130000, 164542124400000)) + list(range(164542124910000, 164542125450000)) + list(range(164542126220000, 164542126490000)) + list(range(164545330000000, 164545348000000))\n",
    "\n",
    "\tfor j in range(164542124910000, 164542125450000):\t# range found by trial and error, will not work for other inputs\n",
    "\t\tregister[\"A\"] = j\n",
    "\t\tresult = []\n",
    "\t\ti = 0\n",
    "\t\twhile i < len(program):\n",
    "\t\t\tif program[i] == 0:\n",
    "\t\t\t\tregister[\"A\"] = adv(program[i+1], register)\n",
    "\t\t\telif program[i] == 1:\n",
    "\t\t\t\tregister[\"B\"] = bxl(program[i+1], register)\n",
    "\t\t\telif program[i] == 2:\n",
    "\t\t\t\tregister[\"B\"] = bst(program[i+1], register)\n",
    "\t\t\telif program[i] == 3:\n",
    "\t\t\t\tjump = jnz(program[i+1], register)\n",
    "\t\t\t\tif jump is not None:\n",
    "\t\t\t\t\ti = jump\n",
    "\t\t\t\t\tcontinue\n",
    "\t\t\telif program[i] == 4:\n",
    "\t\t\t\tregister[\"B\"] = bxc(program[i+1], register)\n",
    "\t\t\telif program[i] == 5:\n",
    "\t\t\t\tresult.append(out(program[i+1], register))\n",
    "\t\t\telif program[i] == 6:\n",
    "\t\t\t\tregister[\"B\"] = bdv(program[i+1], register)\n",
    "\t\t\telif program[i] == 7:\n",
    "\t\t\t\tregister[\"C\"] = cdv(program[i+1], register)\n",
    "\t\t\ti += 2\n",
    "\t\tif result == program:\n",
    "\t\t\treturn j\n",
    "\n",
    "\treturn None\n",
    "\n",
    "# print(\"Example2 input: \" + str(part_two(lines_ex2)))\n",
    "print(\"Real input: \" + str(part_two(lines)))"
   ]
  }
 ],
 "metadata": {
  "kernelspec": {
   "display_name": "Python 3",
   "language": "python",
   "name": "python3"
  },
  "language_info": {
   "codemirror_mode": {
    "name": "ipython",
    "version": 3
   },
   "file_extension": ".py",
   "mimetype": "text/x-python",
   "name": "python",
   "nbconvert_exporter": "python",
   "pygments_lexer": "ipython3",
   "version": "3.9.6"
  },
  "polyglot_notebook": {
   "kernelInfo": {
    "defaultKernelName": "csharp",
    "items": [
     {
      "aliases": [],
      "name": "csharp"
     }
    ]
   }
  }
 },
 "nbformat": 4,
 "nbformat_minor": 2
}
