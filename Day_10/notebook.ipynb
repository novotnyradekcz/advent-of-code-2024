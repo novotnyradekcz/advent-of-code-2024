{
 "cells": [
  {
   "cell_type": "markdown",
   "metadata": {},
   "source": [
    "## Advent of Code 2024"
   ]
  },
  {
   "cell_type": "markdown",
   "metadata": {},
   "source": [
    "### Day 10: Hoof It"
   ]
  },
  {
   "cell_type": "markdown",
   "metadata": {},
   "source": [
    "#### Importing libraries"
   ]
  },
  {
   "cell_type": "code",
   "execution_count": null,
   "metadata": {},
   "outputs": [],
   "source": []
  },
  {
   "cell_type": "markdown",
   "metadata": {},
   "source": [
    "#### Loading example and input file"
   ]
  },
  {
   "cell_type": "code",
   "execution_count": 20,
   "metadata": {
    "dotnet_interactive": {
     "language": "fsharp"
    },
    "polyglot_notebook": {
     "kernelName": "fsharp"
    }
   },
   "outputs": [],
   "source": [
    "with open('example1.txt') as input_file:\n",
    "    lines_ex1 = input_file.readlines()\n",
    "\n",
    "# with open('example2.txt') as inputFile:\n",
    "#     linesEx2 = inputFile.read()\n",
    "\n",
    "with open('input.txt') as input_file:\n",
    "    lines = input_file.readlines()"
   ]
  },
  {
   "cell_type": "markdown",
   "metadata": {},
   "source": [
    "#### Common functions"
   ]
  },
  {
   "cell_type": "code",
   "execution_count": null,
   "metadata": {},
   "outputs": [],
   "source": []
  },
  {
   "cell_type": "markdown",
   "metadata": {},
   "source": [
    "#### Part One"
   ]
  },
  {
   "cell_type": "code",
   "execution_count": 21,
   "metadata": {
    "dotnet_interactive": {
     "language": "fsharp"
    },
    "polyglot_notebook": {
     "kernelName": "fsharp"
    }
   },
   "outputs": [
    {
     "name": "stdout",
     "output_type": "stream",
     "text": [
      "Example input: 36\n",
      "Real input: 468\n"
     ]
    }
   ],
   "source": [
    "def find_trails(trail_map, i, j):\n",
    "\tcurrent = set()\n",
    "\tcurrent.add((i, j))\n",
    "\tscore = 0\n",
    "\twhile current != set():\n",
    "\t\tnew_current = set()\n",
    "\t\tfor (x, y) in current:\n",
    "\t\t\tif trail_map[x][y] == \"9\":\n",
    "\t\t\t\tscore += 1\n",
    "\t\t\telse:\n",
    "\t\t\t\tif x + 1 < len(trail_map) and int(trail_map[x + 1][y]) == int(trail_map[x][y]) + 1:\n",
    "\t\t\t\t\tnew_current.add((x + 1, y))\n",
    "\t\t\t\tif x - 1 >= 0 and int(trail_map[x - 1][y]) == int(trail_map[x][y]) + 1:\n",
    "\t\t\t\t\tnew_current.add((x - 1, y))\n",
    "\t\t\t\tif y + 1 < len(trail_map[x]) - 1 and int(trail_map[x][y + 1]) == int(trail_map[x][y]) + 1:\n",
    "\t\t\t\t\tnew_current.add((x, y + 1))\n",
    "\t\t\t\tif y - 1 >= 0 and int(trail_map[x][y - 1]) == int(trail_map[x][y]) + 1:\n",
    "\t\t\t\t\tnew_current.add((x, y - 1))\n",
    "\t\tcurrent = new_current\n",
    "\treturn score\n",
    "\n",
    "def part_one(input_lines):\n",
    "\ttotal_score = 0\n",
    "\t\n",
    "\tfor i in range(len(input_lines)):\n",
    "\t\tfor j in range(len(input_lines[i]) - 1):\n",
    "\t\t\tif input_lines[i][j] == \"0\":\n",
    "\t\t\t\ttotal_score += find_trails(input_lines, i, j)\n",
    "\t\t\n",
    "\treturn total_score\n",
    "\n",
    "print(\"Example input: \" + str(part_one(lines_ex1)))\n",
    "print(\"Real input: \" + str(part_one(lines)))"
   ]
  },
  {
   "cell_type": "markdown",
   "metadata": {},
   "source": [
    "#### Part Two"
   ]
  },
  {
   "cell_type": "code",
   "execution_count": 22,
   "metadata": {},
   "outputs": [
    {
     "name": "stdout",
     "output_type": "stream",
     "text": [
      "Example input: 81\n",
      "Real input: 966\n"
     ]
    }
   ],
   "source": [
    "def find_trail_score(trail_map, i, j):\n",
    "\tcurrent = []\n",
    "\tcurrent.append((i, j))\n",
    "\tscore = 0\n",
    "\twhile current != []:\n",
    "\t\tnew_current = []\n",
    "\t\tfor (x, y) in current:\n",
    "\t\t\tif trail_map[x][y] == \"9\":\n",
    "\t\t\t\tscore += 1\n",
    "\t\t\telse:\n",
    "\t\t\t\tif x + 1 < len(trail_map) and int(trail_map[x + 1][y]) == int(trail_map[x][y]) + 1:\n",
    "\t\t\t\t\tnew_current.append((x + 1, y))\n",
    "\t\t\t\tif x - 1 >= 0 and int(trail_map[x - 1][y]) == int(trail_map[x][y]) + 1:\n",
    "\t\t\t\t\tnew_current.append((x - 1, y))\n",
    "\t\t\t\tif y + 1 < len(trail_map[x]) - 1 and int(trail_map[x][y + 1]) == int(trail_map[x][y]) + 1:\n",
    "\t\t\t\t\tnew_current.append((x, y + 1))\n",
    "\t\t\t\tif y - 1 >= 0 and int(trail_map[x][y - 1]) == int(trail_map[x][y]) + 1:\n",
    "\t\t\t\t\tnew_current.append((x, y - 1))\n",
    "\t\tcurrent = new_current\n",
    "\treturn score\n",
    "\n",
    "def part_two(input_lines):\n",
    "\ttotal_score = 0\n",
    "\t\n",
    "\tfor i in range(len(input_lines)):\n",
    "\t\tfor j in range(len(input_lines[i]) - 1):\n",
    "\t\t\tif input_lines[i][j] == \"0\":\n",
    "\t\t\t\ttotal_score += find_trail_score(input_lines, i, j)\n",
    "\t\t\n",
    "\treturn total_score\n",
    "\n",
    "print(\"Example input: \" + str(part_two(lines_ex1)))\n",
    "print(\"Real input: \" + str(part_two(lines)))"
   ]
  }
 ],
 "metadata": {
  "kernelspec": {
   "display_name": "Python 3",
   "language": "python",
   "name": "python3"
  },
  "language_info": {
   "codemirror_mode": {
    "name": "ipython",
    "version": 3
   },
   "file_extension": ".py",
   "mimetype": "text/x-python",
   "name": "python",
   "nbconvert_exporter": "python",
   "pygments_lexer": "ipython3",
   "version": "3.9.6"
  },
  "polyglot_notebook": {
   "kernelInfo": {
    "defaultKernelName": "csharp",
    "items": [
     {
      "aliases": [],
      "name": "csharp"
     }
    ]
   }
  }
 },
 "nbformat": 4,
 "nbformat_minor": 2
}
