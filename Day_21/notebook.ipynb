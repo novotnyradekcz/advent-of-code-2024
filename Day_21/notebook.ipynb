{
 "cells": [
  {
   "cell_type": "markdown",
   "metadata": {},
   "source": [
    "## Advent of Code 2024"
   ]
  },
  {
   "cell_type": "markdown",
   "metadata": {},
   "source": [
    "### Day 21: Keypad Conundrum"
   ]
  },
  {
   "cell_type": "markdown",
   "metadata": {},
   "source": [
    "#### Importing libraries"
   ]
  },
  {
   "cell_type": "code",
   "execution_count": 1,
   "metadata": {},
   "outputs": [],
   "source": [
    "from collections import defaultdict"
   ]
  },
  {
   "cell_type": "markdown",
   "metadata": {},
   "source": [
    "#### Loading example and input file"
   ]
  },
  {
   "cell_type": "code",
   "execution_count": 2,
   "metadata": {
    "dotnet_interactive": {
     "language": "fsharp"
    },
    "polyglot_notebook": {
     "kernelName": "fsharp"
    }
   },
   "outputs": [],
   "source": [
    "with open('example1.txt') as input_file:\n",
    "    lines_ex1 = input_file.readlines()\n",
    "\n",
    "# with open('example2.txt') as inputFile:\n",
    "#     lines_ex2 = inputFile.readlines()\n",
    "\n",
    "with open('input.txt') as input_file:\n",
    "    lines = input_file.readlines()"
   ]
  },
  {
   "cell_type": "markdown",
   "metadata": {},
   "source": [
    "#### Common functions"
   ]
  },
  {
   "cell_type": "code",
   "execution_count": 3,
   "metadata": {},
   "outputs": [],
   "source": [
    "def parse(lines):\n",
    "\tcodes = []\n",
    "\tfor line in lines:\n",
    "\t\tcodes.append(line.strip())\n",
    "\treturn codes"
   ]
  },
  {
   "cell_type": "markdown",
   "metadata": {},
   "source": [
    "#### Part One"
   ]
  },
  {
   "cell_type": "code",
   "execution_count": 4,
   "metadata": {
    "dotnet_interactive": {
     "language": "fsharp"
    },
    "polyglot_notebook": {
     "kernelName": "fsharp"
    }
   },
   "outputs": [
    {
     "name": "stdout",
     "output_type": "stream",
     "text": [
      "Example input: 126384\n",
      "Real input: 94426\n"
     ]
    }
   ],
   "source": [
    "numeric_transitions = {\n",
    "\t'AA': '', 'A0': '<', 'A1': '^<<', 'A2': ['^<', '<^'], 'A3': '^', 'A4': '^^<<', 'A5': ['^^<', '<^^'], 'A6': '^^', 'A7': '^^^<<', 'A8': ['^^^<', '<^^^'], 'A9': '^^^',\n",
    "\t'0A': '>', '00': '', '01': '^<', '02': '^', '03': ['^>', '>^'], '04': '^^<', '05': '^^', '06': ['^^>', '>^^'], '07': '^^^<', '08': '^^^', '09': ['^^^>', '>^^^'],\n",
    "\t'1A': '>>v', '10': '>v', '11': '', '12': '>', '13': '>>', '14': '^', '15': ['^>', '>^'], '16': ['^>>', '>>^'], '17': '^^', '18': ['^^>', '>^^'], '19': ['^^>>', '>>^^'],\n",
    "\t'2A': ['v>', '>v'], '20': 'v', '21': '<', '22': '', '23': '>', '24': ['^<', '<^'], '25': '^', '26': ['^>', '>^'], '27': ['^^<', '<^^'], '28': '^^', '29': ['^^>', '>^^'],\n",
    "\t'3A': 'v', '30': ['v<', '<v'], '31': '<<', '32': '<', '33': '', '34': ['^<<', '<<^'], '35': ['^<', '<^'], '36': '^', '37': ['^^<<', '<<^^'], '38': ['^^<', '<^^'], '39': '^^',\n",
    "\t'4A': '>>vv', '40': '>vv', '41': 'v', '42': ['v>', '>v'], '43': ['v>>', '>>v'], '44': '', '45': '>', '46': '>>', '47': '^', '48': ['^>', '>^'], '49': ['^>>', '>>^'],\n",
    "\t'5A': ['vv>', '>vv'], '50': 'vv', '51': ['v<', '<v'], '52': 'v', '53': ['v>', '>v'], '54': '<', '55': '', '56': '>', '57': ['^<', '<^'], '58': '^', '59': ['^>', '>^'],\n",
    "\t'6A': 'vv', '60': ['vv<', '<vv'], '61': ['v<<', '<<v'], '62': ['v<', '<v'], '63': 'v', '64': '<<', '65': '<', '66': '', '67': ['^<<', '<<^'], '68': ['^<', '<^'], '69': '^',\n",
    "\t'7A': '>>vvv', '70': '>vvv', '71': 'vv', '72': ['vv>', '>vv'], '73': ['vv>>', '>>vv'], '74': 'v', '75': ['v>', '>v'], '76': ['v>>', '>>v'], '77': '', '78': '>', '79': '>>',\n",
    "\t'8A': ['vvv>', '>vvv'], '80': 'vvv', '81': ['vv<', '<vv'], '82': 'vv', '83': ['vv>', '>vv'], '84': ['v<', 'v<'], '85': 'v', '86': ['v>', '>v'], '87': '<', '88': '', '89': '>',\n",
    "\t'9A': 'vvv', '90': ['vvv<', '<vvv'], '91': ['vv<<', '<<vv'], '92': ['vv<', '<vv'], '93': 'vv', '94': ['v<<', '<<v'], '95': ['v<', '<v'], '96': 'v', '97': '<<', '98': '<', '99': ''\n",
    "}\n",
    "\n",
    "directional_transitions = {\n",
    "\t'AA': '', 'A^': '<', 'A<': 'v<<', 'Av': ['v<', '<v'], 'A>': 'v',\n",
    "\t'^A': '>', '^^': '', '^<': 'v<', '^v': 'v', '^>': ['v>', '>v'],\n",
    "\t'<A': '>>^', '<^': '>^', '<<': '', '<v': '>', '<>': '>>',\n",
    "\t'vA': ['^>', '>^'], 'v^': '^', 'v<': '<', 'vv': '', 'v>': '>',\n",
    "\t'>A': '^', '>^': ['<^', '^<'], '><': '<<', '>v': '<', '>>': ''\n",
    "}\n",
    "\n",
    "def part_one(input_lines):\n",
    "\tcodes = parse(input_lines)\n",
    "\tprepended_codes = ['A' + code for code in codes]\n",
    "\n",
    "\tsequences = []\n",
    "\tfor code in prepended_codes:\n",
    "\t\tnumeric_keypads = ['A']\n",
    "\t\tfor i in range(len(code) - 1):\n",
    "\t\t\tnext_keys = numeric_transitions[code[i:i+2]]\n",
    "\t\t\tif isinstance(next_keys, list):\n",
    "\t\t\t\tnumeric_keypads = [keypad + next_key + 'A' for keypad in numeric_keypads for next_key in next_keys]\n",
    "\t\t\telse:\n",
    "\t\t\t\tnumeric_keypads = [keypad + next_keys + 'A' for keypad in numeric_keypads]\n",
    "\n",
    "\t\tdirectional_keypads_1 = []\n",
    "\t\tfor numeric_keypad in numeric_keypads:\n",
    "\t\t\tdirectional_keypad_1 = ['A']\n",
    "\t\t\tfor i in range(len(numeric_keypad) - 1):\n",
    "\t\t\t\tnext_keys = directional_transitions[numeric_keypad[i:i+2]]\n",
    "\t\t\t\tif isinstance(next_keys, list):\n",
    "\t\t\t\t\tdirectional_keypad_1 = [keypad + next_key + 'A' for keypad in directional_keypad_1 for next_key in next_keys]\n",
    "\t\t\t\telse:\n",
    "\t\t\t\t\tdirectional_keypad_1 = [keypad + next_keys + 'A' for keypad in directional_keypad_1]\n",
    "\t\t\tdirectional_keypads_1 += directional_keypad_1\n",
    "\n",
    "\t\tdirectional_keypads_2 = []\n",
    "\t\tfor directional_keypad in directional_keypads_1:\n",
    "\t\t\tdirectional_keypad_2 = ['']\n",
    "\t\t\tfor i in range(len(directional_keypad) - 1):\n",
    "\t\t\t\tnext_keys = directional_transitions[directional_keypad[i:i+2]]\n",
    "\t\t\t\tif isinstance(next_keys, list):\n",
    "\t\t\t\t\tdirectional_keypad_2 = [keypad + next_key + 'A' for keypad in directional_keypad_2 for next_key in next_keys]\n",
    "\t\t\t\telse:\n",
    "\t\t\t\t\tdirectional_keypad_2 = [keypad + next_keys + 'A' for keypad in directional_keypad_2]\n",
    "\t\t\tdirectional_keypads_2 += directional_keypad_2\n",
    "\n",
    "\t\tsequences.append(min(directional_keypads_2, key=len))\n",
    "\n",
    "\tcomplexities = 0\n",
    "\tfor i in range(len(codes)):\n",
    "\t\tcomplexities += int(codes[i][:-1]) * len(sequences[i])\n",
    "\n",
    "\treturn complexities\n",
    "\n",
    "print(\"Example input: \" + str(part_one(lines_ex1)))\n",
    "print(\"Real input: \" + str(part_one(lines)))"
   ]
  },
  {
   "cell_type": "markdown",
   "metadata": {},
   "source": [
    "#### Part Two"
   ]
  },
  {
   "cell_type": "code",
   "execution_count": 5,
   "metadata": {},
   "outputs": [
    {
     "name": "stdout",
     "output_type": "stream",
     "text": [
      "Real input: 118392478819140\n"
     ]
    }
   ],
   "source": [
    "numeric_keypad = {\n",
    "\t'7': (0,0), '8': (1,0), '9': (2,0),\n",
    "\t'4': (0,1), '5': (1,1), '6': (2,1),\n",
    "\t'1': (0,2), '2': (1,2), '3': (2,2),\n",
    "\t' ': (0,3), '0': (1,3), 'A': (2,3)\n",
    "}\n",
    "\n",
    "directional_transitions = {\n",
    "\t('A', '^'): '<A',\n",
    "\t('A', '>'): 'vA',\n",
    "\t('A', 'v'): '<vA',\n",
    "\t('A', '<'): 'v<<A',\n",
    "\t('^', 'A'): '>A',\n",
    "\t('^', '>'): 'v>A',\n",
    "\t('^', '<'): 'v<A',\n",
    "\t('^', 'v'): 'vA',\n",
    "\t('v', 'A'): '^>A',\n",
    "\t('v', '>'): '>A',\n",
    "\t('v', '<'): '<A',\n",
    "\t('v', '^'): '^A',\n",
    "\t('>', 'A'): '^A',\n",
    "\t('>', '^'): '<^A',\n",
    "\t('>', 'v'): '<A',\n",
    "\t('>', '<'): '<<A',\n",
    "\t('<', 'A'): '>>^A',\n",
    "\t('<', '^'): '>^A',\n",
    "\t('<', 'v'): '>A',\n",
    "\t('<', '>'): '>>A'\n",
    "}\n",
    "\n",
    "def move_to_button(from_button, to_button):\n",
    "\tx1, y1 = numeric_keypad[from_button]\n",
    "\tx2, y2 = numeric_keypad[to_button]\n",
    "\tnx, ny = numeric_keypad[' ']\n",
    "\tdirections = ''\n",
    "\twhile (x1, y1) != (x2, y2):\n",
    "\t\tif x2 < x1:\n",
    "\t\t\tif (y1 == ny) and (x2 == nx):\n",
    "\t\t\t\tdirections += '^' * (y1 - y2)\n",
    "\t\t\t\ty1 = y2\n",
    "\t\t\telse:\n",
    "\t\t\t\tdirections += '<'\n",
    "\t\t\t\tx1 -= 1\n",
    "\t\telif y2 < y1:\n",
    "\t\t\tdirections += '^'\n",
    "\t\t\ty1 -= 1\n",
    "\t\telif y2 > y1:\n",
    "\t\t\tif (x1 == nx) and (y2 == ny):\n",
    "\t\t\t\tdirections += '>' * (x2 - x1)\n",
    "\t\t\t\tx1 = x2\n",
    "\t\t\telse:\n",
    "\t\t\t\tdirections += 'v'\n",
    "\t\t\t\ty1 += 1\n",
    "\t\telif x2 > x1:\n",
    "\t\t\tdirections += '>'\n",
    "\t\t\tx1 += 1\n",
    "\treturn directions\n",
    "\n",
    "def part_two(input_lines):\n",
    "\tcodes = parse(input_lines)\n",
    "\n",
    "\tcomplexities = 0\n",
    "\tfor code in codes:\n",
    "\t\tsequences = defaultdict(int)\n",
    "\n",
    "\t\tfrom_button = 'A'\n",
    "\t\tfor button in code:\n",
    "\t\t\tdirections = move_to_button(from_button, button)\n",
    "\t\t\tfrom_button = button\n",
    "\t\t\tdirections += 'A'\n",
    "\t\t\tsequences[directions] += 1\n",
    "\n",
    "\t\tfor n in range(25):\n",
    "\t\t\titerate_sequences = dict(sequences)\n",
    "\t\t\tfor button_press, count in iterate_sequences.items():\n",
    "\t\t\t\tfrom_button = 'A'\n",
    "\t\t\t\tfor button in button_press:\n",
    "\t\t\t\t\tif from_button == button:\n",
    "\t\t\t\t\t\tdirections = 'A'\n",
    "\t\t\t\t\telse:\n",
    "\t\t\t\t\t\tdirections = directional_transitions[(from_button, button)]\n",
    "\t\t\t\t\tfrom_button = button\n",
    "\t\t\t\t\tsequences[directions] += count\n",
    "\n",
    "\t\t\t\tsequences[button_press] -= count\n",
    "\n",
    "\t\tcomplexity = 0\n",
    "\t\tfor button_press, count in sequences.items():\n",
    "\t\t\tcomplexity += len(button_press) * count\n",
    "\t\tcomplexities += complexity * int(code[:3])\n",
    "\treturn complexities\n",
    "\n",
    "# print(\"Example input: \" + str(part_two(lines_ex1)))\n",
    "print(\"Real input: \" + str(part_two(lines)))"
   ]
  }
 ],
 "metadata": {
  "kernelspec": {
   "display_name": "Python 3",
   "language": "python",
   "name": "python3"
  },
  "language_info": {
   "codemirror_mode": {
    "name": "ipython",
    "version": 3
   },
   "file_extension": ".py",
   "mimetype": "text/x-python",
   "name": "python",
   "nbconvert_exporter": "python",
   "pygments_lexer": "ipython3",
   "version": "3.9.6"
  },
  "polyglot_notebook": {
   "kernelInfo": {
    "defaultKernelName": "csharp",
    "items": [
     {
      "aliases": [],
      "name": "csharp"
     }
    ]
   }
  }
 },
 "nbformat": 4,
 "nbformat_minor": 2
}
