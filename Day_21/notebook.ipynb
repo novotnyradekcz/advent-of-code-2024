{
 "cells": [
  {
   "cell_type": "markdown",
   "metadata": {},
   "source": [
    "## Advent of Code 2024"
   ]
  },
  {
   "cell_type": "markdown",
   "metadata": {},
   "source": [
    "### Day 21: Keypad Conundrum"
   ]
  },
  {
   "cell_type": "markdown",
   "metadata": {},
   "source": [
    "#### Importing libraries"
   ]
  },
  {
   "cell_type": "code",
   "execution_count": 1,
   "metadata": {},
   "outputs": [],
   "source": [
    "from collections import defaultdict"
   ]
  },
  {
   "cell_type": "markdown",
   "metadata": {},
   "source": [
    "#### Loading example and input file"
   ]
  },
  {
   "cell_type": "code",
   "execution_count": 2,
   "metadata": {
    "dotnet_interactive": {
     "language": "fsharp"
    },
    "polyglot_notebook": {
     "kernelName": "fsharp"
    }
   },
   "outputs": [],
   "source": [
    "with open('example1.txt') as input_file:\n",
    "    lines_ex1 = input_file.readlines()\n",
    "\n",
    "# with open('example2.txt') as inputFile:\n",
    "#     lines_ex2 = inputFile.readlines()\n",
    "\n",
    "with open('input.txt') as input_file:\n",
    "    lines = input_file.readlines()"
   ]
  },
  {
   "cell_type": "markdown",
   "metadata": {},
   "source": [
    "#### Common functions"
   ]
  },
  {
   "cell_type": "code",
   "execution_count": 3,
   "metadata": {},
   "outputs": [],
   "source": [
    "def parse(lines):\n",
    "\tcodes = []\n",
    "\tfor line in lines:\n",
    "\t\tcodes.append(line.strip())\n",
    "\treturn codes\n",
    "\n",
    "numeric_transitions = {\n",
    "\t'AA': '', 'A0': '<', 'A1': '^<<', 'A2': '<^', 'A3': '^', 'A4': '^^<<', 'A5': '<^^', 'A6': '^^', 'A7': '^^^<<', 'A8': '<^^^', 'A9': '^^^',\n",
    "\t'0A': '>', '00': '', '01': '^<', '02': '^', '03': '^>', '04': '^^<', '05': '^^', '06': '^^>', '07': '^^^<', '08': '^^^', '09': '^^^>',\n",
    "\t'1A': '>>v', '10': '>v', '11': '', '12': '>', '13': '>>', '14': '^', '15': '^>', '16': '^>>', '17': '^^', '18': '^^>', '19': '^^>>',\n",
    "\t'2A': 'v>', '20': 'v', '21': '<', '22': '', '23': '>', '24': '<^', '25': '^', '26': '^>', '27': '<^^', '28': '^^', '29': '^^>',\n",
    "\t'3A': 'v', '30': '<v', '31': '<<', '32': '<', '33': '', '34': '<<^', '35': '<^', '36': '^', '37': '<<^^', '38': '<^^', '39': '^^',\n",
    "\t'4A': '>>vv', '40': '>vv', '41': 'v', '42': 'v>', '43': 'v>>', '44': '', '45': '>', '46': '>>', '47': '^', '48': '^>', '49': '^>>',\n",
    "\t'5A': 'vv>', '50': 'vv', '51': '<v', '52': 'v', '53': 'v>', '54': '<', '55': '', '56': '>', '57': '<^', '58': '^', '59': '^>',\n",
    "\t'6A': 'vv', '60': '<vv', '61': '<<v', '62': '<v', '63': 'v', '64': '<<', '65': '<', '66': '', '67': '<<^', '68': '<^', '69': '^',\n",
    "\t'7A': '>>vvv', '70': '>vvv', '71': 'vv', '72': 'vv>', '73': 'vv>>', '74': 'v', '75': 'v>', '76': 'v>>', '77': '', '78': '>', '79': '>>',\n",
    "\t'8A': 'vvv>', '80': 'vvv', '81': '<vv', '82': 'vv', '83': 'vv>', '84': '<v', '85': 'v', '86': 'v>', '87': '<', '88': '', '89': '>',\n",
    "\t'9A': 'vvv', '90': '<vvv', '91': '<<vv', '92': '<vv', '93': 'vv', '94': '<<v', '95': '<v', '96': 'v', '97': '<<', '98': '<', '99': ''\n",
    "}\n",
    "\n",
    "directional_transitions = {\n",
    "\t'AA': '', 'A^': '<', 'A<': 'v<<', 'Av': '<v', 'A>': 'v',\n",
    "\t'^A': '>', '^^': '', '^<': 'v<', '^v': 'v', '^>': 'v>',\n",
    "\t'<A': '>>^', '<^': '>^', '<<': '', '<v': '>', '<>': '>>',\n",
    "\t'vA': '^>', 'v^': '^', 'v<': '<', 'vv': '', 'v>': '>',\n",
    "\t'>A': '^', '>^': '<^', '><': '<<', '>v': '<', '>>': ''\n",
    "}"
   ]
  },
  {
   "cell_type": "markdown",
   "metadata": {},
   "source": [
    "#### Part One"
   ]
  },
  {
   "cell_type": "code",
   "execution_count": 4,
   "metadata": {
    "dotnet_interactive": {
     "language": "fsharp"
    },
    "polyglot_notebook": {
     "kernelName": "fsharp"
    }
   },
   "outputs": [
    {
     "name": "stdout",
     "output_type": "stream",
     "text": [
      "Example input: 126384\n",
      "Real input: 94426\n"
     ]
    }
   ],
   "source": [
    "def part_one(input_lines):\n",
    "\tcodes = parse(input_lines)\n",
    "\tprepended_codes = ['A' + code for code in codes]\n",
    "\n",
    "\tsequences = []\n",
    "\tfor code in prepended_codes:\n",
    "\t\tnumeric_keypad = 'A'\n",
    "\t\tfor i in range(len(code) - 1):\n",
    "\t\t\tnext_key = numeric_transitions[code[i:i+2]]\n",
    "\t\t\tnumeric_keypad += next_key + 'A'\n",
    "\n",
    "\t\tdirectional_keypad_1 = 'A'\n",
    "\t\tfor i in range(len(numeric_keypad) - 1):\n",
    "\t\t\tnext_key = directional_transitions[numeric_keypad[i:i+2]]\n",
    "\t\t\tdirectional_keypad_1 += next_key + 'A'\n",
    "\n",
    "\t\tdirectional_keypad_2 = ''\n",
    "\t\tfor i in range(len(directional_keypad_1) - 1):\n",
    "\t\t\tnext_key = directional_transitions[directional_keypad_1[i:i+2]]\n",
    "\t\t\tdirectional_keypad_2 += next_key + 'A'\n",
    "\n",
    "\t\tsequences.append(directional_keypad_2)\n",
    "\n",
    "\tcomplexities = 0\n",
    "\tfor i in range(len(codes)):\n",
    "\t\tcomplexities += int(codes[i][:-1]) * len(sequences[i])\n",
    "\n",
    "\treturn complexities\n",
    "\n",
    "print(\"Example input: \" + str(part_one(lines_ex1)))\n",
    "print(\"Real input: \" + str(part_one(lines)))"
   ]
  },
  {
   "cell_type": "markdown",
   "metadata": {},
   "source": [
    "#### Part Two"
   ]
  },
  {
   "cell_type": "code",
   "execution_count": 5,
   "metadata": {},
   "outputs": [
    {
     "name": "stdout",
     "output_type": "stream",
     "text": [
      "Real input: 118392478819140\n"
     ]
    }
   ],
   "source": [
    "def part_two(input_lines):\n",
    "\tcodes = parse(input_lines)\n",
    "\n",
    "\tcomplexities = 0\n",
    "\tfor code in codes:\n",
    "\t\tsequences = defaultdict(int)\n",
    "\n",
    "\t\tstart_button = 'A'\n",
    "\t\tfor button in code:\n",
    "\t\t\ttransitions = numeric_transitions[start_button + button] + 'A'\n",
    "\t\t\tstart_button = button\n",
    "\t\t\tsequences[transitions] += 1\n",
    "\n",
    "\t\tfor i in range(25):\n",
    "\t\t\titerate_sequences = dict(sequences)\n",
    "\t\t\tfor button_press, count in iterate_sequences.items():\n",
    "\t\t\t\tstart_button = 'A'\n",
    "\t\t\t\tfor button in button_press:\n",
    "\t\t\t\t\ttransitions = directional_transitions[start_button + button] + 'A'\n",
    "\t\t\t\t\tstart_button = button\n",
    "\t\t\t\t\tsequences[transitions] += count\n",
    "\n",
    "\t\t\t\tsequences[button_press] -= count\n",
    "\n",
    "\t\tcomplexity = 0\n",
    "\t\tfor sequence, count in sequences.items():\n",
    "\t\t\tcomplexity += len(sequence) * count\n",
    "\t\tcomplexities += complexity * int(code[:3])\n",
    "\treturn complexities\n",
    "\n",
    "# print(\"Example input: \" + str(part_two(lines_ex1)))\n",
    "print(\"Real input: \" + str(part_two(lines)))"
   ]
  }
 ],
 "metadata": {
  "kernelspec": {
   "display_name": "Python 3",
   "language": "python",
   "name": "python3"
  },
  "language_info": {
   "codemirror_mode": {
    "name": "ipython",
    "version": 3
   },
   "file_extension": ".py",
   "mimetype": "text/x-python",
   "name": "python",
   "nbconvert_exporter": "python",
   "pygments_lexer": "ipython3",
   "version": "3.9.6"
  },
  "polyglot_notebook": {
   "kernelInfo": {
    "defaultKernelName": "csharp",
    "items": [
     {
      "aliases": [],
      "name": "csharp"
     }
    ]
   }
  }
 },
 "nbformat": 4,
 "nbformat_minor": 2
}
