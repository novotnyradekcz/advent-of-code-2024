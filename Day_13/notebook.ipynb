{
 "cells": [
  {
   "cell_type": "markdown",
   "metadata": {},
   "source": [
    "## Advent of Code 2024"
   ]
  },
  {
   "cell_type": "markdown",
   "metadata": {},
   "source": [
    "### Day 13: Claw Contraption"
   ]
  },
  {
   "cell_type": "markdown",
   "metadata": {},
   "source": [
    "#### Importing libraries"
   ]
  },
  {
   "cell_type": "code",
   "execution_count": 59,
   "metadata": {},
   "outputs": [],
   "source": [
    "import re\n",
    "import numpy as np"
   ]
  },
  {
   "cell_type": "markdown",
   "metadata": {},
   "source": [
    "#### Loading example and input file"
   ]
  },
  {
   "cell_type": "code",
   "execution_count": 60,
   "metadata": {
    "dotnet_interactive": {
     "language": "fsharp"
    },
    "polyglot_notebook": {
     "kernelName": "fsharp"
    }
   },
   "outputs": [],
   "source": [
    "with open('example1.txt') as input_file:\n",
    "    lines_ex1 = input_file.readlines()\n",
    "\n",
    "# with open('example2.txt') as inputFile:\n",
    "#     lines_ex2 = inputFile.readlines()\n",
    "\n",
    "with open('input.txt') as input_file:\n",
    "    lines = input_file.readlines()"
   ]
  },
  {
   "cell_type": "markdown",
   "metadata": {},
   "source": [
    "#### Common functions"
   ]
  },
  {
   "cell_type": "code",
   "execution_count": 61,
   "metadata": {},
   "outputs": [],
   "source": [
    "def parse(lines):\n",
    "\tmachines = []\n",
    "\ti = 0\n",
    "\twhile i < len(lines):\n",
    "\t\tmachine = []\n",
    "\t\tfor j in range(3):\n",
    "\t\t\tmachine.append(lines[i].strip())\n",
    "\t\t\ti += 1\n",
    "\t\ti += 1\n",
    "\t\tmachines.append(tuple(machine))\n",
    "\n",
    "\tcoordinates = []\n",
    "\tfor machine in machines:\n",
    "\t\tAx = re.findall(r'X\\+\\d+', machine[0])\n",
    "\t\tAy = re.findall(r'Y\\+\\d+', machine[0])\n",
    "\t\tBx = re.findall(r'X\\+\\d+', machine[1])\n",
    "\t\tBy = re.findall(r'Y\\+\\d+', machine[1])\n",
    "\t\tprizeX = re.findall(r'X=\\d+', machine[2])\n",
    "\t\tprizeY = re.findall(r'Y=\\d+', machine[2])\n",
    "\t\tcoordinates.append([[int(Ax[0][2:]), int(Bx[0][2:])], [int(Ay[0][2:]), int(By[0][2:])], [int(prizeX[0][2:]), int(prizeY[0][2:])]])\n",
    "\n",
    "\treturn coordinates"
   ]
  },
  {
   "cell_type": "markdown",
   "metadata": {},
   "source": [
    "#### Part One"
   ]
  },
  {
   "cell_type": "code",
   "execution_count": null,
   "metadata": {
    "dotnet_interactive": {
     "language": "fsharp"
    },
    "polyglot_notebook": {
     "kernelName": "fsharp"
    }
   },
   "outputs": [
    {
     "name": "stdout",
     "output_type": "stream",
     "text": [
      "Example1 input: 480\n",
      "Real input: 31897\n"
     ]
    }
   ],
   "source": [
    "def part_one(input_lines):\n",
    "\tmachines = parse(input_lines)\n",
    "\n",
    "\tmin_tokens = 0\n",
    "\tfor machine in machines:\n",
    "\t\ttokens = 0\n",
    "\t\tleft_sde = np.array(machine[:2])\n",
    "\t\tright_side = np.array(machine[2])\n",
    "\t\tresult = np.linalg.inv(left_sde).dot(right_side)\n",
    "\t\tif result[0] >= 0 and result[1] >= 0 and abs(result[0] - round(result[0])) < 0.00001 and abs(result[1] - round(result[1])) < 0.00001:\n",
    "\t\t\ttokens = 3 * int(round(result[0])) + int(round(result[1]))\n",
    "\t\tmin_tokens += tokens\n",
    "\n",
    "\treturn min_tokens\n",
    "\n",
    "print(\"Example1 input: \" + str(part_one(lines_ex1)))\n",
    "print(\"Real input: \" + str(part_one(lines)))"
   ]
  },
  {
   "cell_type": "markdown",
   "metadata": {},
   "source": [
    "15748 not"
   ]
  },
  {
   "cell_type": "markdown",
   "metadata": {},
   "source": [
    "#### Part Two"
   ]
  },
  {
   "cell_type": "code",
   "execution_count": 66,
   "metadata": {},
   "outputs": [
    {
     "name": "stdout",
     "output_type": "stream",
     "text": [
      "Example input: 875318608908\n",
      "Real input: 87596249540359\n"
     ]
    }
   ],
   "source": [
    "def part_two(input_lines):\n",
    "\tmachines = parse(input_lines)\n",
    "\n",
    "\tmin_tokens = 0\n",
    "\tfor machine in machines:\n",
    "\t\ttokens = 0\n",
    "\t\tleft_sde = np.array(machine[:2])\n",
    "\t\tright_side = np.array(machine[2]) + 10000000000000\n",
    "\t\tresult = np.linalg.inv(left_sde).dot(right_side)\n",
    "\t\tif result[0] >= 0 and result[1] >= 0 and abs(result[0] - round(result[0])) < 0.001 and abs(result[1] - round(result[1])) < 0.001:\t# need to lower precision for part two\n",
    "\t\t\ttokens = 3 * int(round(result[0])) + int(round(result[1]))\n",
    "\t\tmin_tokens += tokens\n",
    "\n",
    "\treturn min_tokens\n",
    "\n",
    "print(\"Example input: \" + str(part_two(lines_ex1)))\n",
    "print(\"Real input: \" + str(part_two(lines)))"
   ]
  }
 ],
 "metadata": {
  "kernelspec": {
   "display_name": "Python 3",
   "language": "python",
   "name": "python3"
  },
  "language_info": {
   "codemirror_mode": {
    "name": "ipython",
    "version": 3
   },
   "file_extension": ".py",
   "mimetype": "text/x-python",
   "name": "python",
   "nbconvert_exporter": "python",
   "pygments_lexer": "ipython3",
   "version": "3.9.6"
  },
  "polyglot_notebook": {
   "kernelInfo": {
    "defaultKernelName": "csharp",
    "items": [
     {
      "aliases": [],
      "name": "csharp"
     }
    ]
   }
  }
 },
 "nbformat": 4,
 "nbformat_minor": 2
}
