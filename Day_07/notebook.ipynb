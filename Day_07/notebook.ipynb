{
 "cells": [
  {
   "cell_type": "markdown",
   "metadata": {},
   "source": [
    "## Advent of Code 2024"
   ]
  },
  {
   "cell_type": "markdown",
   "metadata": {},
   "source": [
    "### Day 7: Bridge Repair"
   ]
  },
  {
   "cell_type": "markdown",
   "metadata": {},
   "source": [
    "#### Importing libraries"
   ]
  },
  {
   "cell_type": "code",
   "execution_count": 35,
   "metadata": {},
   "outputs": [],
   "source": [
    "import itertools"
   ]
  },
  {
   "cell_type": "markdown",
   "metadata": {},
   "source": [
    "#### Loading example and input file"
   ]
  },
  {
   "cell_type": "code",
   "execution_count": 36,
   "metadata": {
    "dotnet_interactive": {
     "language": "fsharp"
    },
    "polyglot_notebook": {
     "kernelName": "fsharp"
    }
   },
   "outputs": [],
   "source": [
    "with open('example1.txt') as input_file:\n",
    "    lines_ex1 = input_file.readlines()\n",
    "\n",
    "# with open('example2.txt') as inputFile:\n",
    "#     linesEx2 = inputFile.read()\n",
    "\n",
    "with open('input.txt') as input_file:\n",
    "    lines = input_file.readlines()"
   ]
  },
  {
   "cell_type": "markdown",
   "metadata": {},
   "source": [
    "#### Common functions"
   ]
  },
  {
   "cell_type": "code",
   "execution_count": 37,
   "metadata": {},
   "outputs": [],
   "source": [
    "def parse(lines):\n",
    "\tequations = []\n",
    "\tfor line in lines:\n",
    "\t\tnumbers = line.strip().split(' ')\n",
    "\t\tequation = []\n",
    "\t\tfor number in numbers:\n",
    "\t\t\tequation.append(int(number.strip(':')))\n",
    "\t\tequations.append(equation)\n",
    "\treturn equations"
   ]
  },
  {
   "cell_type": "markdown",
   "metadata": {},
   "source": [
    "#### Part One"
   ]
  },
  {
   "cell_type": "code",
   "execution_count": 38,
   "metadata": {
    "dotnet_interactive": {
     "language": "fsharp"
    },
    "polyglot_notebook": {
     "kernelName": "fsharp"
    }
   },
   "outputs": [
    {
     "name": "stdout",
     "output_type": "stream",
     "text": [
      "Example input: 3749\n",
      "Real input: 5030892084481\n"
     ]
    }
   ],
   "source": [
    "def part_one(input_lines):\n",
    "\tequations = parse(input_lines)\n",
    "\tresult = 0\n",
    "\tfor equation in equations:\n",
    "\t\tvalues = [equation[1]]\n",
    "\t\tfor i in range(2, len(equation)):\n",
    "\t\t\tnew_values = []\n",
    "\t\t\tfor value in values:\n",
    "\t\t\t\tnew_values.append(value + equation[i])\n",
    "\t\t\t\tnew_values.append(value * equation[i])\n",
    "\t\t\tvalues = new_values\n",
    "\t\tif equation[0] in values:\n",
    "\t\t\tresult += equation[0]\n",
    "\treturn result\n",
    "\n",
    "print(\"Example input: \" + str(part_one(lines_ex1)))\n",
    "print(\"Real input: \" + str(part_one(lines)))"
   ]
  },
  {
   "cell_type": "markdown",
   "metadata": {},
   "source": [
    "#### Part Two"
   ]
  },
  {
   "cell_type": "code",
   "execution_count": 39,
   "metadata": {},
   "outputs": [
    {
     "name": "stdout",
     "output_type": "stream",
     "text": [
      "Example input: 11387\n",
      "Real input: 91377448644679\n"
     ]
    }
   ],
   "source": [
    "def part_two(input_lines):\n",
    "\tequations = parse(input_lines)\n",
    "\tresult = 0\n",
    "\tfor equation in equations:\n",
    "\t\tvalues = [equation[1]]\n",
    "\t\tfor i in range(2, len(equation)):\n",
    "\t\t\tnew_values = []\n",
    "\t\t\tfor value in values:\n",
    "\t\t\t\tnew_values.append(value + equation[i])\n",
    "\t\t\t\tnew_values.append(value * equation[i])\n",
    "\t\t\t\tnew_values.append(int(str(value) + str(equation[i])))\n",
    "\t\t\tvalues = new_values\n",
    "\t\tif equation[0] in values:\n",
    "\t\t\tresult += equation[0]\n",
    "\treturn result\n",
    "\n",
    "print(\"Example input: \" + str(part_two(lines_ex1)))\n",
    "print(\"Real input: \" + str(part_two(lines)))"
   ]
  }
 ],
 "metadata": {
  "kernelspec": {
   "display_name": "Python 3",
   "language": "python",
   "name": "python3"
  },
  "language_info": {
   "codemirror_mode": {
    "name": "ipython",
    "version": 3
   },
   "file_extension": ".py",
   "mimetype": "text/x-python",
   "name": "python",
   "nbconvert_exporter": "python",
   "pygments_lexer": "ipython3",
   "version": "3.9.6"
  },
  "polyglot_notebook": {
   "kernelInfo": {
    "defaultKernelName": "csharp",
    "items": [
     {
      "aliases": [],
      "name": "csharp"
     }
    ]
   }
  }
 },
 "nbformat": 4,
 "nbformat_minor": 2
}
