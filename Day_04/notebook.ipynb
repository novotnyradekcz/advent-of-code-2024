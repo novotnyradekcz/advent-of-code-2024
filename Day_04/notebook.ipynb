{
 "cells": [
  {
   "cell_type": "markdown",
   "metadata": {},
   "source": [
    "## Advent of Code 2024"
   ]
  },
  {
   "cell_type": "markdown",
   "metadata": {},
   "source": [
    "### Day 4: Ceres Search"
   ]
  },
  {
   "cell_type": "markdown",
   "metadata": {},
   "source": [
    "#### Importing libraries"
   ]
  },
  {
   "cell_type": "code",
   "execution_count": null,
   "metadata": {},
   "outputs": [],
   "source": []
  },
  {
   "cell_type": "markdown",
   "metadata": {},
   "source": [
    "#### Loading example and input file"
   ]
  },
  {
   "cell_type": "code",
   "execution_count": 28,
   "metadata": {
    "dotnet_interactive": {
     "language": "fsharp"
    },
    "polyglot_notebook": {
     "kernelName": "fsharp"
    }
   },
   "outputs": [],
   "source": [
    "with open('example1.txt') as inputFile:\n",
    "    linesEx1 = inputFile.readlines()\n",
    "\n",
    "# with open('example2.txt') as inputFile:\n",
    "#     linesEx2 = inputFile.read()\n",
    "\n",
    "with open('input.txt') as inputFile:\n",
    "    lines = inputFile.readlines()"
   ]
  },
  {
   "cell_type": "markdown",
   "metadata": {},
   "source": [
    "#### Common functions"
   ]
  },
  {
   "cell_type": "code",
   "execution_count": null,
   "metadata": {},
   "outputs": [],
   "source": []
  },
  {
   "cell_type": "markdown",
   "metadata": {},
   "source": [
    "#### Part One"
   ]
  },
  {
   "cell_type": "code",
   "execution_count": 29,
   "metadata": {
    "dotnet_interactive": {
     "language": "fsharp"
    },
    "polyglot_notebook": {
     "kernelName": "fsharp"
    }
   },
   "outputs": [
    {
     "name": "stdout",
     "output_type": "stream",
     "text": [
      "Example input: 18\n",
      "Real input: 2401\n"
     ]
    }
   ],
   "source": [
    "def part_one(s):\n",
    "\tresult = 0\n",
    "\t# horizontal words\n",
    "\tfor line in s:\n",
    "\t\tfor i in range(len(line) - 3):\n",
    "\t\t\tif line[i:i+4] == \"XMAS\" or line[i:i+4] == \"SAMX\":\n",
    "\t\t\t\tresult += 1\n",
    "\t# vertical words\n",
    "\tfor i in range(len(s) - 3):\n",
    "\t\tfor j in range(len(s[0])):\n",
    "\t\t\tif (s[i][j] == \"X\" and s[i+1][j] == \"M\" and s[i+2][j] == \"A\" and s[i+3][j] == \"S\") or (s[i][j] == \"S\" and s[i+1][j] == \"A\" and s[i+2][j] == \"M\" and s[i+3][j] == \"X\"):\n",
    "\t\t\t\tresult += 1\n",
    "\t# diagonal words\n",
    "\tfor i in range(len(s) - 3):\n",
    "\t\tfor j in range(len(s[0]) - 3):\n",
    "\t\t\tif (s[i][j] == \"X\" and s[i+1][j+1] == \"M\" and s[i+2][j+2] == \"A\" and s[i+3][j+3] == \"S\") or (s[i][j] == \"S\" and s[i+1][j+1] == \"A\" and s[i+2][j+2] == \"M\" and s[i+3][j+3] == \"X\"):\n",
    "\t\t\t\tresult += 1\n",
    "\t\t\tif (s[i][j+3] == \"X\" and s[i+1][j+2] == \"M\" and s[i+2][j+1] == \"A\" and s[i+3][j] == \"S\") or (s[i][j+3] == \"S\" and s[i+1][j+2] == \"A\" and s[i+2][j+1] == \"M\" and s[i+3][j] == \"X\"):\n",
    "\t\t\t\tresult += 1\n",
    "\treturn result\n",
    "\n",
    "print(\"Example input: \" + str(part_one(linesEx1)))\n",
    "print(\"Real input: \" + str(part_one(lines)))"
   ]
  },
  {
   "cell_type": "markdown",
   "metadata": {},
   "source": [
    "#### Part Two"
   ]
  },
  {
   "cell_type": "code",
   "execution_count": 30,
   "metadata": {},
   "outputs": [
    {
     "name": "stdout",
     "output_type": "stream",
     "text": [
      "Example input: 9\n",
      "Real input: 1822\n"
     ]
    }
   ],
   "source": [
    "def part_two(s):\n",
    "\tresult = 0\n",
    "\tfor i in range(len(s) - 2):\n",
    "\t\tfor j in range(len(s[0]) - 2):\n",
    "\t\t\tif s[i][j] == \"M\" and s[i+1][j+1] == \"A\" and s[i+2][j+2] == \"S\" and s[i][j+2] == \"M\" and s[i+2][j] == \"S\":\n",
    "\t\t\t\tresult += 1\n",
    "\t\t\tif s[i][j] == \"S\" and s[i+1][j+1] == \"A\" and s[i+2][j+2] == \"M\" and s[i][j+2] == \"S\" and s[i+2][j] == \"M\":\n",
    "\t\t\t\tresult += 1\n",
    "\t\t\tif s[i][j] == \"M\" and s[i+1][j+1]  == \"A\" and s[i+2][j+2] == \"S\" and s[i][j+2] == \"S\" and s[i+2][j] == \"M\":\n",
    "\t\t\t\tresult += 1\n",
    "\t\t\tif s[i][j] == \"S\" and s[i+1][j+1] == \"A\" and s[i+2][j+2] == \"M\" and s[i][j+2] == \"M\" and s[i+2][j] == \"S\":\n",
    "\t\t\t\tresult += 1\n",
    "\treturn result\n",
    "\n",
    "print(\"Example input: \" + str(part_two(linesEx1)))\n",
    "print(\"Real input: \" + str(part_two(lines)))"
   ]
  }
 ],
 "metadata": {
  "kernelspec": {
   "display_name": "Python 3",
   "language": "python",
   "name": "python3"
  },
  "language_info": {
   "codemirror_mode": {
    "name": "ipython",
    "version": 3
   },
   "file_extension": ".py",
   "mimetype": "text/x-python",
   "name": "python",
   "nbconvert_exporter": "python",
   "pygments_lexer": "ipython3",
   "version": "3.9.6"
  },
  "polyglot_notebook": {
   "kernelInfo": {
    "defaultKernelName": "csharp",
    "items": [
     {
      "aliases": [],
      "name": "csharp"
     }
    ]
   }
  }
 },
 "nbformat": 4,
 "nbformat_minor": 2
}
