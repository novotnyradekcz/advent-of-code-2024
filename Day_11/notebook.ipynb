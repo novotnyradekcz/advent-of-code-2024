{
 "cells": [
  {
   "cell_type": "markdown",
   "metadata": {},
   "source": [
    "## Advent of Code 2024"
   ]
  },
  {
   "cell_type": "markdown",
   "metadata": {},
   "source": [
    "### Day 11: Plutonian Pebbles"
   ]
  },
  {
   "cell_type": "markdown",
   "metadata": {},
   "source": [
    "#### Importing libraries"
   ]
  },
  {
   "cell_type": "code",
   "execution_count": 12,
   "metadata": {},
   "outputs": [],
   "source": [
    "from collections import Counter"
   ]
  },
  {
   "cell_type": "markdown",
   "metadata": {},
   "source": [
    "#### Loading example and input file"
   ]
  },
  {
   "cell_type": "code",
   "execution_count": 13,
   "metadata": {
    "dotnet_interactive": {
     "language": "fsharp"
    },
    "polyglot_notebook": {
     "kernelName": "fsharp"
    }
   },
   "outputs": [],
   "source": [
    "with open('example1.txt') as input_file:\n",
    "    lines_ex1 = input_file.read()\n",
    "\n",
    "# with open('example2.txt') as inputFile:\n",
    "#     linesEx2 = inputFile.read()\n",
    "\n",
    "with open('input.txt') as input_file:\n",
    "    lines = input_file.read()"
   ]
  },
  {
   "cell_type": "markdown",
   "metadata": {},
   "source": [
    "#### Common functions"
   ]
  },
  {
   "cell_type": "code",
   "execution_count": null,
   "metadata": {},
   "outputs": [],
   "source": []
  },
  {
   "cell_type": "markdown",
   "metadata": {},
   "source": [
    "#### Part One"
   ]
  },
  {
   "cell_type": "code",
   "execution_count": 14,
   "metadata": {
    "dotnet_interactive": {
     "language": "fsharp"
    },
    "polyglot_notebook": {
     "kernelName": "fsharp"
    }
   },
   "outputs": [
    {
     "name": "stdout",
     "output_type": "stream",
     "text": [
      "Example input: 55312\n",
      "Real input: 186424\n"
     ]
    }
   ],
   "source": [
    "def part_one(input_line):\n",
    "\tsplit_line = input_line.split(' ')\n",
    "\tstones = [ int(x) for x in split_line ]\n",
    "\n",
    "\tfor i in range(25):\n",
    "\t\tnew_stones = []\n",
    "\t\tfor stone in stones:\n",
    "\t\t\tif stone == 0:\n",
    "\t\t\t\tnew_stones.append(1)\n",
    "\t\t\telif len(str(stone)) % 2 == 0:\n",
    "\t\t\t\tnew_stones.append(int(str(stone)[:len(str(stone))//2]))\n",
    "\t\t\t\tnew_stones.append(int(str(stone)[len(str(stone))//2:]))\n",
    "\t\t\telse:\n",
    "\t\t\t\tnew_stones.append(2024 * stone)\n",
    "\t\tstones = new_stones\n",
    "\t\t\n",
    "\treturn len(stones)\n",
    "\n",
    "print(\"Example input: \" + str(part_one(lines_ex1)))\n",
    "print(\"Real input: \" + str(part_one(lines)))"
   ]
  },
  {
   "cell_type": "markdown",
   "metadata": {},
   "source": [
    "#### Part Two"
   ]
  },
  {
   "cell_type": "code",
   "execution_count": 15,
   "metadata": {},
   "outputs": [
    {
     "name": "stdout",
     "output_type": "stream",
     "text": [
      "Example input: 65601038650482\n",
      "Real input: 219838428124832\n"
     ]
    }
   ],
   "source": [
    "def part_two(input_line):\n",
    "\tsplit_line = input_line.split(' ')\n",
    "\tstones = [ int(x) for x in split_line ]\n",
    "\t\n",
    "\tcurrent_stones = Counter(stones)\n",
    "\tfor i in range(75):\n",
    "\t\tnew_stones = {}\n",
    "\t\tfor stone, count in current_stones.items():\n",
    "\t\t\tif stone == 0:\n",
    "\t\t\t\tif 1 in new_stones:\n",
    "\t\t\t\t\tnew_stones[1] += count\n",
    "\t\t\t\telse:\n",
    "\t\t\t\t\tnew_stones[1] = count\n",
    "\t\t\telif len(str(stone)) % 2 == 0:\n",
    "\t\t\t\tif int(str(stone)[:len(str(stone))//2]) in new_stones:\n",
    "\t\t\t\t\tnew_stones[int(str(stone)[:len(str(stone))//2])] += count\n",
    "\t\t\t\telse:\n",
    "\t\t\t\t\tnew_stones[int(str(stone)[:len(str(stone))//2])] = count\n",
    "\t\t\t\tif int(str(stone)[len(str(stone))//2:]) in new_stones:\n",
    "\t\t\t\t\tnew_stones[int(str(stone)[len(str(stone))//2:])] += count\n",
    "\t\t\t\telse:\n",
    "\t\t\t\t\tnew_stones[int(str(stone)[len(str(stone))//2:])] = count\n",
    "\t\t\telse:\n",
    "\t\t\t\tif 2024 * stone in new_stones:\n",
    "\t\t\t\t\tnew_stones[2024 * stone] += count\n",
    "\t\t\t\telse:\n",
    "\t\t\t\t\tnew_stones[2024 * stone] = count\n",
    "\t\tcurrent_stones = new_stones.copy()\n",
    "\t\n",
    "\tstone_count = 0\n",
    "\tfor stone, count in current_stones.items():\n",
    "\t\tstone_count += count\n",
    "\n",
    "\treturn stone_count\n",
    "\n",
    "print(\"Example input: \" + str(part_two(lines_ex1)))\n",
    "print(\"Real input: \" + str(part_two(lines)))"
   ]
  }
 ],
 "metadata": {
  "kernelspec": {
   "display_name": "Python 3",
   "language": "python",
   "name": "python3"
  },
  "language_info": {
   "codemirror_mode": {
    "name": "ipython",
    "version": 3
   },
   "file_extension": ".py",
   "mimetype": "text/x-python",
   "name": "python",
   "nbconvert_exporter": "python",
   "pygments_lexer": "ipython3",
   "version": "3.9.6"
  },
  "polyglot_notebook": {
   "kernelInfo": {
    "defaultKernelName": "csharp",
    "items": [
     {
      "aliases": [],
      "name": "csharp"
     }
    ]
   }
  }
 },
 "nbformat": 4,
 "nbformat_minor": 2
}
