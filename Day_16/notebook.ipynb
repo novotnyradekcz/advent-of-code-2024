{
 "cells": [
  {
   "cell_type": "markdown",
   "metadata": {},
   "source": [
    "## Advent of Code 2024"
   ]
  },
  {
   "cell_type": "markdown",
   "metadata": {},
   "source": [
    "### Day 16: Reindeer Maze"
   ]
  },
  {
   "cell_type": "markdown",
   "metadata": {},
   "source": [
    "#### Importing libraries"
   ]
  },
  {
   "cell_type": "code",
   "execution_count": 12,
   "metadata": {},
   "outputs": [],
   "source": [
    "import heapq"
   ]
  },
  {
   "cell_type": "markdown",
   "metadata": {},
   "source": [
    "#### Loading example and input file"
   ]
  },
  {
   "cell_type": "code",
   "execution_count": 13,
   "metadata": {
    "dotnet_interactive": {
     "language": "fsharp"
    },
    "polyglot_notebook": {
     "kernelName": "fsharp"
    }
   },
   "outputs": [],
   "source": [
    "with open('example1.txt') as input_file:\n",
    "    lines_ex1 = input_file.readlines()\n",
    "\n",
    "with open('example2.txt') as inputFile:\n",
    "    lines_ex2 = inputFile.readlines()\n",
    "\n",
    "with open('input.txt') as input_file:\n",
    "    lines = input_file.readlines()"
   ]
  },
  {
   "cell_type": "markdown",
   "metadata": {},
   "source": [
    "#### Common functions"
   ]
  },
  {
   "cell_type": "code",
   "execution_count": 14,
   "metadata": {},
   "outputs": [],
   "source": [
    "def parse(lines):\n",
    "\tmaze = set()\n",
    "\tstart = None\n",
    "\tend = None\n",
    "\n",
    "\tfor i in range(len(lines)):\n",
    "\t\tfor j in range(len(lines[i])):\n",
    "\t\t\tif lines[i][j] == '.':\n",
    "\t\t\t\tmaze.add((i, j))\n",
    "\t\t\telif lines[i][j] == 'S':\n",
    "\t\t\t\tstart = (i, j)\n",
    "\t\t\telif lines[i][j] == 'E':\n",
    "\t\t\t\tend = (i, j)\n",
    "\n",
    "\treturn maze, start, end\n",
    "\n",
    "def print_path(maze, original_maze, width, height):\n",
    "\tfor i in range(height):\n",
    "\t\tfor j in range(width):\n",
    "\t\t\tif (i, j) in maze and (i, j) in original_maze:\n",
    "\t\t\t\tprint('.', end='')\n",
    "\t\t\telif (i, j) in original_maze and (i, j) not in maze:\n",
    "\t\t\t\tprint('o', end='')\n",
    "\t\t\telse:\n",
    "\t\t\t\tprint('#', end='')\n",
    "\t\tprint()"
   ]
  },
  {
   "cell_type": "markdown",
   "metadata": {},
   "source": [
    "#### Part One"
   ]
  },
  {
   "cell_type": "code",
   "execution_count": 38,
   "metadata": {
    "dotnet_interactive": {
     "language": "fsharp"
    },
    "polyglot_notebook": {
     "kernelName": "fsharp"
    }
   },
   "outputs": [
    {
     "name": "stdout",
     "output_type": "stream",
     "text": [
      "Example1 input: 7036\n",
      "Example2 input: 11048\n",
      "Real input: 92432\n"
     ]
    }
   ],
   "source": [
    "def part_one(input_lines):\n",
    "\tmaze, start, end = parse(input_lines)\n",
    "\tmaze.add(end)\n",
    "\n",
    "\tpq = [(0, start, 0)]\n",
    "\tvisited = dict()\n",
    "\n",
    "\tdirections = {\n",
    "\t\t0: (0, 1),   # East\n",
    "\t\t1: (-1, 0),  # North\n",
    "\t\t2: (0, -1),  # West\n",
    "\t\t3: (1, 0),   # South\n",
    "\t}\n",
    "\n",
    "\twhile pq:\n",
    "\t\tcost, current, prev_direction = heapq.heappop(pq)\n",
    "\t\t\n",
    "\t\tif current == end:\n",
    "\t\t\treturn cost\n",
    "\t\tif (current, prev_direction) in visited and visited[(current, prev_direction)] <= cost:\n",
    "\t\t\tcontinue\n",
    "\t\tvisited[(current, prev_direction)] = cost\n",
    "\n",
    "\t\tfor direction, (dx, dy) in directions.items():\n",
    "\t\t\tnx, ny = current[0] + dx, current[1] + dy\n",
    "\t\t\tneighbor = (nx, ny)\n",
    "\n",
    "\t\t\tif neighbor in maze:\n",
    "\t\t\t\tif prev_direction == direction:\n",
    "\t\t\t\t\tnew_cost = cost + 1\n",
    "\t\t\t\telif abs(prev_direction - direction) % 2 == 1:\n",
    "\t\t\t\t\tnew_cost = cost + 1001\t\n",
    "\t\t\t\telse:\n",
    "\t\t\t\t\tnew_cost = cost + 2001\t\n",
    "\t\t\t\theapq.heappush(pq, (new_cost, neighbor, direction))\n",
    "\n",
    "\treturn None\n",
    "print(\"Example1 input: \" + str(part_one(lines_ex1)))\n",
    "print(\"Example2 input: \" + str(part_one(lines_ex2)))\n",
    "print(\"Real input: \" + str(part_one(lines)))"
   ]
  },
  {
   "cell_type": "markdown",
   "metadata": {},
   "source": [
    "#### Part Two"
   ]
  },
  {
   "cell_type": "code",
   "execution_count": 39,
   "metadata": {},
   "outputs": [
    {
     "name": "stdout",
     "output_type": "stream",
     "text": [
      "Example1 input: 45\n",
      "Example2 input: 64\n",
      "Real input: 458\n"
     ]
    }
   ],
   "source": [
    "def part_two(input_lines):\n",
    "\tmaze, start, end = parse(input_lines)\n",
    "\tmaze.add(end)\n",
    "\n",
    "\tpq = [(0, start, 0, set())]\n",
    "\tvisited = dict()\n",
    "\n",
    "\tdirections = {\n",
    "\t\t0: (0, 1),   # East\n",
    "\t\t1: (-1, 0),  # North\n",
    "\t\t2: (0, -1),  # West\n",
    "\t\t3: (1, 0),   # South\n",
    "\t}\n",
    "\n",
    "\tlowest_cost = float('inf')\n",
    "\ttotal_visited = set()\n",
    "\n",
    "\twhile pq:\n",
    "\t\tcost, current, prev_direction, path = heapq.heappop(pq)\n",
    "\n",
    "\t\tif current == end and cost <= lowest_cost:\n",
    "\t\t\tlowest_cost = cost\n",
    "\t\t\ttotal_visited.update(path)\n",
    "\t\tif (current, prev_direction) in visited and visited[(current, prev_direction)] < cost:\n",
    "\t\t\tcontinue\n",
    "\n",
    "\t\tvisited[(current, prev_direction)] = cost\n",
    "\n",
    "\t\tfor direction, (dx, dy) in directions.items():\n",
    "\t\t\tnx, ny = current[0] + dx, current[1] + dy\n",
    "\t\t\tneighbor = (nx, ny)\n",
    "\n",
    "\t\t\tif neighbor in maze:\n",
    "\t\t\t\tif prev_direction == direction:\n",
    "\t\t\t\t\tnew_cost = cost + 1\n",
    "\t\t\t\telif abs(prev_direction - direction) % 2 == 1:\n",
    "\t\t\t\t\tnew_cost = cost + 1001\n",
    "\t\t\t\telse:\n",
    "\t\t\t\t\tnew_cost = cost + 2001\n",
    "\n",
    "\t\t\t\theapq.heappush(pq, (new_cost, neighbor, direction, path | set([neighbor])))\n",
    "\n",
    "\treturn len(total_visited) + 1  # +1 for starting position\n",
    "\n",
    "print(\"Example1 input: \" + str(part_two(lines_ex1)))\n",
    "print(\"Example2 input: \" + str(part_two(lines_ex2)))\n",
    "print(\"Real input: \" + str(part_two(lines)))"
   ]
  }
 ],
 "metadata": {
  "kernelspec": {
   "display_name": "Python 3",
   "language": "python",
   "name": "python3"
  },
  "language_info": {
   "codemirror_mode": {
    "name": "ipython",
    "version": 3
   },
   "file_extension": ".py",
   "mimetype": "text/x-python",
   "name": "python",
   "nbconvert_exporter": "python",
   "pygments_lexer": "ipython3",
   "version": "3.9.6"
  },
  "polyglot_notebook": {
   "kernelInfo": {
    "defaultKernelName": "csharp",
    "items": [
     {
      "aliases": [],
      "name": "csharp"
     }
    ]
   }
  }
 },
 "nbformat": 4,
 "nbformat_minor": 2
}
