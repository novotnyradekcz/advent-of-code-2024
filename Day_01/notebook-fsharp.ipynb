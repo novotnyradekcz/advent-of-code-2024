{
 "cells": [
  {
   "cell_type": "markdown",
   "metadata": {},
   "source": [
    "## Advent of Code 2024"
   ]
  },
  {
   "cell_type": "markdown",
   "metadata": {},
   "source": [
    "### Day 1: Historian Hysteria"
   ]
  },
  {
   "cell_type": "markdown",
   "metadata": {},
   "source": [
    "#### Importing libraries"
   ]
  },
  {
   "cell_type": "code",
   "execution_count": null,
   "metadata": {
    "vscode": {
     "languageId": "polyglot-notebook"
    }
   },
   "outputs": [],
   "source": []
  },
  {
   "cell_type": "markdown",
   "metadata": {},
   "source": [
    "#### Loading example and input file"
   ]
  },
  {
   "cell_type": "code",
   "execution_count": 2,
   "metadata": {
    "dotnet_interactive": {
     "language": "fsharp"
    },
    "polyglot_notebook": {
     "kernelName": "fsharp"
    },
    "vscode": {
     "languageId": "polyglot-notebook"
    }
   },
   "outputs": [],
   "source": [
    "let linesEx1 = System.IO.File.ReadAllLines(\"example1.txt\")\n",
    "\n",
    "// let linesEx2 = System.IO.File.ReadAllLines(\"example2.txt\")\n",
    "\n",
    "let lines = System.IO.File.ReadAllLines(\"input.txt\")"
   ]
  },
  {
   "cell_type": "markdown",
   "metadata": {},
   "source": [
    "#### Common functions"
   ]
  },
  {
   "cell_type": "code",
   "execution_count": 65,
   "metadata": {
    "dotnet_interactive": {
     "language": "fsharp"
    },
    "polyglot_notebook": {
     "kernelName": "fsharp"
    },
    "vscode": {
     "languageId": "polyglot-notebook"
    }
   },
   "outputs": [],
   "source": [
    "let parse (input: string[]) =\n",
    "    input\n",
    "    |> Array.map (fun x -> x.Split(' '))\n",
    "    |> Array.map (Array.filter (fun x -> x.Length > 0))\n",
    "    |> Array.map (fun (x: string[]) -> (int x[0], int x[1]))\n",
    "    |> Array.unzip"
   ]
  },
  {
   "cell_type": "markdown",
   "metadata": {},
   "source": [
    "#### Part One"
   ]
  },
  {
   "cell_type": "code",
   "execution_count": 67,
   "metadata": {
    "dotnet_interactive": {
     "language": "fsharp"
    },
    "polyglot_notebook": {
     "kernelName": "fsharp"
    },
    "vscode": {
     "languageId": "polyglot-notebook"
    }
   },
   "outputs": [
    {
     "name": "stdout",
     "output_type": "stream",
     "text": [
      "Example 1: 11\n",
      "Real input: 1970720\n"
     ]
    }
   ],
   "source": [
    "let partOne inputLines =\n",
    "    let leftList, rightList = parse inputLines\n",
    "\n",
    "    (leftList |> Array.sort,\n",
    "     rightList |> Array.sort)\n",
    "    ||> Array.zip\n",
    "    |> Array.map (fun (a, b) -> abs(a - b))\n",
    "    |> Array.sum\n",
    "\n",
    "printfn $\"Example 1: {partOne linesEx1}\"\n",
    "printfn $\"Real input: {partOne lines}\""
   ]
  },
  {
   "cell_type": "markdown",
   "metadata": {},
   "source": [
    "#### Part Two"
   ]
  },
  {
   "cell_type": "code",
   "execution_count": 69,
   "metadata": {
    "dotnet_interactive": {
     "language": "fsharp"
    },
    "polyglot_notebook": {
     "kernelName": "fsharp"
    },
    "vscode": {
     "languageId": "polyglot-notebook"
    }
   },
   "outputs": [
    {
     "name": "stdout",
     "output_type": "stream",
     "text": [
      "Example 1: 31\n",
      "Real input: 17191599\n"
     ]
    }
   ],
   "source": [
    "let partTwo inputLines =\n",
    "    let leftList, rightList = parse inputLines\n",
    "\n",
    "    leftList\n",
    "    |> Array.map (fun x -> x * (rightList |> Array.filter (fun y -> x = y) |> Array.length))\n",
    "    |> Array.sum\n",
    "\n",
    "printfn $\"Example 1: {partTwo linesEx1}\"\n",
    "printfn $\"Real input: {partTwo lines}\""
   ]
  }
 ],
 "metadata": {
  "kernelspec": {
   "display_name": ".NET (C#)",
   "language": "C#",
   "name": ".net-csharp"
  },
  "language_info": {
   "codemirror_mode": {
    "name": "ipython",
    "version": 3
   },
   "file_extension": ".py",
   "mimetype": "text/x-python",
   "name": "python",
   "nbconvert_exporter": "python",
   "pygments_lexer": "ipython3",
   "version": "3.9.6"
  },
  "polyglot_notebook": {
   "kernelInfo": {
    "defaultKernelName": "csharp",
    "items": [
     {
      "aliases": [],
      "name": "csharp"
     }
    ]
   }
  }
 },
 "nbformat": 4,
 "nbformat_minor": 2
}
