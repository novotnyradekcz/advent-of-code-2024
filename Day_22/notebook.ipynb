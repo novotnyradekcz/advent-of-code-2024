{
 "cells": [
  {
   "cell_type": "markdown",
   "metadata": {},
   "source": [
    "## Advent of Code 2024"
   ]
  },
  {
   "cell_type": "markdown",
   "metadata": {},
   "source": [
    "### Day 22: Monkey Market"
   ]
  },
  {
   "cell_type": "markdown",
   "metadata": {},
   "source": [
    "#### Importing libraries"
   ]
  },
  {
   "cell_type": "code",
   "execution_count": 22,
   "metadata": {},
   "outputs": [],
   "source": [
    "from collections import defaultdict"
   ]
  },
  {
   "cell_type": "markdown",
   "metadata": {},
   "source": [
    "#### Loading example and input file"
   ]
  },
  {
   "cell_type": "code",
   "execution_count": 23,
   "metadata": {
    "dotnet_interactive": {
     "language": "fsharp"
    },
    "polyglot_notebook": {
     "kernelName": "fsharp"
    }
   },
   "outputs": [],
   "source": [
    "with open('example1.txt') as input_file:\n",
    "    lines_ex1 = input_file.readlines()\n",
    "\n",
    "with open('example2.txt') as inputFile:\n",
    "    lines_ex2 = inputFile.readlines()\n",
    "\n",
    "with open('input.txt') as input_file:\n",
    "    lines = input_file.readlines()"
   ]
  },
  {
   "cell_type": "markdown",
   "metadata": {},
   "source": [
    "#### Common functions"
   ]
  },
  {
   "cell_type": "code",
   "execution_count": 24,
   "metadata": {},
   "outputs": [],
   "source": [
    "def parse(lines):\n",
    "\tnumbers = []\n",
    "\tfor line in lines:\n",
    "\t\tnumbers.append(int(line.strip()))\n",
    "\treturn numbers"
   ]
  },
  {
   "cell_type": "markdown",
   "metadata": {},
   "source": [
    "#### Part One"
   ]
  },
  {
   "cell_type": "code",
   "execution_count": 25,
   "metadata": {
    "dotnet_interactive": {
     "language": "fsharp"
    },
    "polyglot_notebook": {
     "kernelName": "fsharp"
    }
   },
   "outputs": [
    {
     "name": "stdout",
     "output_type": "stream",
     "text": [
      "Example input: 37327623\n",
      "Real input: 18317943467\n"
     ]
    }
   ],
   "source": [
    "def part_one(input_lines):\n",
    "\tnumbers = parse(input_lines)\n",
    "\n",
    "\tsecret_numbers = []\n",
    "\tfor number in numbers:\n",
    "\t\tsecret_number = number\n",
    "\t\tfor i in range(2000):\n",
    "\t\t\tsecret_number ^= secret_number * 64\n",
    "\t\t\tsecret_number %= 16777216\n",
    "\t\t\tsecret_number ^= secret_number // 32\n",
    "\t\t\tsecret_number %= 16777216\n",
    "\t\t\tsecret_number ^= secret_number * 2048\n",
    "\t\t\tsecret_number %= 16777216\n",
    "\t\tsecret_numbers.append(secret_number)\n",
    "\treturn sum(secret_numbers)\n",
    "\n",
    "print(\"Example input: \" + str(part_one(lines_ex1)))\n",
    "print(\"Real input: \" + str(part_one(lines)))"
   ]
  },
  {
   "cell_type": "markdown",
   "metadata": {},
   "source": [
    "#### Part Two"
   ]
  },
  {
   "cell_type": "code",
   "execution_count": 26,
   "metadata": {},
   "outputs": [
    {
     "name": "stdout",
     "output_type": "stream",
     "text": [
      "Example input: 23\n",
      "Real input: 2018\n"
     ]
    }
   ],
   "source": [
    "def part_two(input_lines):\n",
    "\tnumbers = parse(input_lines)\n",
    "\n",
    "\ttotal_price_by_sequence = defaultdict(int)\n",
    "\tfor number in numbers:\n",
    "\t\tprice_values = [number % 10]\n",
    "\t\tsecret_number = number\n",
    "\t\tfor i in range(2000):\n",
    "\t\t\tsecret_number ^= secret_number * 64\n",
    "\t\t\tsecret_number %= 16777216\n",
    "\t\t\tsecret_number ^= secret_number // 32\n",
    "\t\t\tsecret_number %= 16777216\n",
    "\t\t\tsecret_number ^= secret_number * 2048\n",
    "\t\t\tsecret_number %= 16777216\n",
    "\t\t\tprice_values.append(secret_number % 10)\n",
    "\t\tprice_changes = [price_values[i + 1] - price_values[i] for i in range(2000)]\n",
    "        \n",
    "\t\tprocessed = set()\n",
    "\t\tfor j in range(len(price_changes) - 3):\n",
    "\t\t\tsequence = tuple(price_changes[j:j + 4])\n",
    "\t\t\tif sequence not in processed:\n",
    "\t\t\t\ttotal_price_by_sequence[sequence] += price_values[j + 4]\n",
    "\t\t\t\tprocessed.add(sequence)\n",
    "\n",
    "\treturn max(total_price_by_sequence.values())\n",
    "\n",
    "print(\"Example input: \" + str(part_two(lines_ex2)))\n",
    "print(\"Real input: \" + str(part_two(lines)))"
   ]
  }
 ],
 "metadata": {
  "kernelspec": {
   "display_name": "Python 3",
   "language": "python",
   "name": "python3"
  },
  "language_info": {
   "codemirror_mode": {
    "name": "ipython",
    "version": 3
   },
   "file_extension": ".py",
   "mimetype": "text/x-python",
   "name": "python",
   "nbconvert_exporter": "python",
   "pygments_lexer": "ipython3",
   "version": "3.9.6"
  },
  "polyglot_notebook": {
   "kernelInfo": {
    "defaultKernelName": "csharp",
    "items": [
     {
      "aliases": [],
      "name": "csharp"
     }
    ]
   }
  }
 },
 "nbformat": 4,
 "nbformat_minor": 2
}
