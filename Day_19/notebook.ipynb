{
 "cells": [
  {
   "cell_type": "markdown",
   "metadata": {},
   "source": [
    "## Advent of Code 2024"
   ]
  },
  {
   "cell_type": "markdown",
   "metadata": {},
   "source": [
    "### Day 19: Linen Layout"
   ]
  },
  {
   "cell_type": "markdown",
   "metadata": {},
   "source": [
    "#### Importing libraries"
   ]
  },
  {
   "cell_type": "code",
   "execution_count": 58,
   "metadata": {},
   "outputs": [],
   "source": [
    "from collections import defaultdict"
   ]
  },
  {
   "cell_type": "markdown",
   "metadata": {},
   "source": [
    "#### Loading example and input file"
   ]
  },
  {
   "cell_type": "code",
   "execution_count": 59,
   "metadata": {
    "dotnet_interactive": {
     "language": "fsharp"
    },
    "polyglot_notebook": {
     "kernelName": "fsharp"
    }
   },
   "outputs": [],
   "source": [
    "with open('example1.txt') as input_file:\n",
    "    lines_ex1 = input_file.readlines()\n",
    "\n",
    "# with open('example2.txt') as inputFile:\n",
    "#     lines_ex2 = inputFile.readlines()\n",
    "\n",
    "with open('input.txt') as input_file:\n",
    "    lines = input_file.readlines()"
   ]
  },
  {
   "cell_type": "markdown",
   "metadata": {},
   "source": [
    "#### Common functions"
   ]
  },
  {
   "cell_type": "code",
   "execution_count": 60,
   "metadata": {},
   "outputs": [],
   "source": [
    "def parse(lines):\n",
    "\ttowels = lines[0].strip().split(\", \")\n",
    "\tpatterns = []\n",
    "\tfor i in range(2, len(lines)):\n",
    "\t\tpatterns.append(lines[i].strip())\n",
    "\treturn towels, patterns"
   ]
  },
  {
   "cell_type": "markdown",
   "metadata": {},
   "source": [
    "#### Part One"
   ]
  },
  {
   "cell_type": "code",
   "execution_count": 61,
   "metadata": {
    "dotnet_interactive": {
     "language": "fsharp"
    },
    "polyglot_notebook": {
     "kernelName": "fsharp"
    }
   },
   "outputs": [
    {
     "name": "stdout",
     "output_type": "stream",
     "text": [
      "Example input: 6\n",
      "Real input: 333\n"
     ]
    }
   ],
   "source": [
    "def part_one(input_lines):\n",
    "\ttowels, patterns = parse(input_lines)\n",
    "\n",
    "\tgrouped_towels = defaultdict(list)\n",
    "\tfor towel in towels:\n",
    "\t\tgrouped_towels[len(towel)].append(towel)\n",
    "\tlongest_towel = max(grouped_towels.keys())\n",
    "\n",
    "\tdef compare_pattern(pattern):\n",
    "\t\tif len(pattern) == 0:\n",
    "\t\t\treturn 1\n",
    "\t\tlength = min(len(pattern), longest_towel)\n",
    "\t\tfor i in range(length, 0, -1):\n",
    "\t\t\tif pattern[:i] in grouped_towels[i]:\n",
    "\t\t\t\tif compare_pattern(pattern[i:]) == 1:\n",
    "\t\t\t\t\treturn 1\n",
    "\t\treturn 0\n",
    "\n",
    "\tpossible_patterns = 0\n",
    "\tfor pattern in patterns:\n",
    "\t\tpossible_patterns += compare_pattern(pattern)\n",
    "\treturn possible_patterns\n",
    "\n",
    "print(\"Example input: \" + str(part_one(lines_ex1)))\n",
    "print(\"Real input: \" + str(part_one(lines)))"
   ]
  },
  {
   "cell_type": "markdown",
   "metadata": {},
   "source": [
    "#### Part Two"
   ]
  },
  {
   "cell_type": "code",
   "execution_count": 62,
   "metadata": {},
   "outputs": [
    {
     "name": "stdout",
     "output_type": "stream",
     "text": [
      "Example input: 16\n",
      "Real input: 678536865274732\n"
     ]
    }
   ],
   "source": [
    "def part_two(input_lines):\n",
    "\ttowels, patterns = parse(input_lines)\n",
    "\n",
    "\tgrouped_towels = defaultdict(list)\n",
    "\tfor towel in towels:\n",
    "\t\tgrouped_towels[len(towel)].append(towel)\n",
    "\tlongest_towel = max(grouped_towels.keys())\n",
    "\n",
    "\tmemo = dict()\n",
    "\n",
    "\tdef compare_pattern(pattern):\n",
    "\t\tif len(pattern) == 0:\n",
    "\t\t\treturn 1\n",
    "\t\tif pattern in memo:\n",
    "\t\t\treturn memo[pattern]\n",
    "\t\tlength = min(len(pattern), longest_towel)\n",
    "\t\tcombinations = 0\n",
    "\t\tfor i in range(length, 0, -1):\n",
    "\t\t\tif pattern[:i] in grouped_towels[i]:\n",
    "\t\t\t\tcombinations += compare_pattern(pattern[i:])\n",
    "\t\tmemo[pattern] = combinations\n",
    "\t\treturn combinations\n",
    "\n",
    "\tpossible_patterns = 0\n",
    "\tfor i in range(len(patterns)):\n",
    "\t\tpossible_patterns += compare_pattern(patterns[i])\n",
    "\treturn possible_patterns\n",
    "\n",
    "print(\"Example input: \" + str(part_two(lines_ex1)))\n",
    "print(\"Real input: \" + str(part_two(lines)))"
   ]
  }
 ],
 "metadata": {
  "kernelspec": {
   "display_name": "Python 3",
   "language": "python",
   "name": "python3"
  },
  "language_info": {
   "codemirror_mode": {
    "name": "ipython",
    "version": 3
   },
   "file_extension": ".py",
   "mimetype": "text/x-python",
   "name": "python",
   "nbconvert_exporter": "python",
   "pygments_lexer": "ipython3",
   "version": "3.9.6"
  },
  "polyglot_notebook": {
   "kernelInfo": {
    "defaultKernelName": "csharp",
    "items": [
     {
      "aliases": [],
      "name": "csharp"
     }
    ]
   }
  }
 },
 "nbformat": 4,
 "nbformat_minor": 2
}
