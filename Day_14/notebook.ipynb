{
 "cells": [
  {
   "cell_type": "markdown",
   "metadata": {},
   "source": [
    "## Advent of Code 2024"
   ]
  },
  {
   "cell_type": "markdown",
   "metadata": {},
   "source": [
    "### Day 14: Restroom Redoubt"
   ]
  },
  {
   "cell_type": "markdown",
   "metadata": {},
   "source": [
    "#### Importing libraries"
   ]
  },
  {
   "cell_type": "code",
   "execution_count": 22,
   "metadata": {},
   "outputs": [],
   "source": [
    "import re\n",
    "import numpy as np"
   ]
  },
  {
   "cell_type": "markdown",
   "metadata": {},
   "source": [
    "#### Loading example and input file"
   ]
  },
  {
   "cell_type": "code",
   "execution_count": 23,
   "metadata": {
    "dotnet_interactive": {
     "language": "fsharp"
    },
    "polyglot_notebook": {
     "kernelName": "fsharp"
    }
   },
   "outputs": [],
   "source": [
    "with open('example1.txt') as input_file:\n",
    "    lines_ex1 = input_file.readlines()\n",
    "\n",
    "# with open('example2.txt') as inputFile:\n",
    "#     lines_ex2 = inputFile.readlines()\n",
    "\n",
    "with open('input.txt') as input_file:\n",
    "    lines = input_file.readlines()"
   ]
  },
  {
   "cell_type": "markdown",
   "metadata": {},
   "source": [
    "#### Common functions"
   ]
  },
  {
   "cell_type": "code",
   "execution_count": 31,
   "metadata": {},
   "outputs": [],
   "source": [
    "def parse(lines):\n",
    "\trobots = []\n",
    "\t\n",
    "\tfor line in lines:\n",
    "\t\tp = re.findall(r'p=\\d+,\\d+', line)[0]\n",
    "\t\tv = re.findall(r'v=-?\\d+,-?\\d+', line)[0]\n",
    "\t\trobots.append((tuple(p[2:].split(',')), tuple(v[2:].split(','))))\n",
    "\n",
    "\treturn robots\n",
    "\n",
    "def display_robots(robots, width, height):\n",
    "\tfor j in range(height):\n",
    "\t\tfor i in range(width):\n",
    "\t\t\tif (i, j) in robots:\n",
    "\t\t\t\tprint('#', end='')\n",
    "\t\t\telse:\n",
    "\t\t\t\tprint(' ', end='')\n",
    "\t\tprint()"
   ]
  },
  {
   "cell_type": "markdown",
   "metadata": {},
   "source": [
    "#### Part One"
   ]
  },
  {
   "cell_type": "code",
   "execution_count": 25,
   "metadata": {
    "dotnet_interactive": {
     "language": "fsharp"
    },
    "polyglot_notebook": {
     "kernelName": "fsharp"
    }
   },
   "outputs": [
    {
     "name": "stdout",
     "output_type": "stream",
     "text": [
      "Example1 input: 12\n",
      "Real input: 229868730\n"
     ]
    }
   ],
   "source": [
    "def part_one(input_lines, width=101, height=103):\n",
    "\trobots = parse(input_lines)\n",
    "\n",
    "\tfinal_robots = []\n",
    "\tfor robot in robots:\n",
    "\t\tpos = np.array(robot[0], dtype=int)\n",
    "\t\tvel = np.array(robot[1], dtype=int)\n",
    "\t\tfinal_pos = pos + vel * 100\n",
    "\t\tfinal_robots.append(tuple([final_pos[0] % width, final_pos[1] % height]))\n",
    "\n",
    "\tquadrants = [0, 0, 0, 0]\n",
    "\tfor robot in final_robots:\n",
    "\t\tif robot[0] < width // 2 and robot[1] < height // 2:\n",
    "\t\t\tquadrants[0] += 1\n",
    "\t\telif robot[0] > width // 2 and robot[1] < height // 2:\n",
    "\t\t\tquadrants[1] += 1\n",
    "\t\telif robot[0] < width // 2 and robot[1] > height // 2:\n",
    "\t\t\tquadrants[2] += 1\n",
    "\t\telif robot[0] > width // 2 and robot[1] > height // 2:\n",
    "\t\t\tquadrants[3] += 1\n",
    "\n",
    "\treturn quadrants[0] * quadrants[1] * quadrants[2] * quadrants[3]\n",
    "\n",
    "print(\"Example1 input: \" + str(part_one(lines_ex1, 11, 7)))\n",
    "print(\"Real input: \" + str(part_one(lines)))"
   ]
  },
  {
   "cell_type": "markdown",
   "metadata": {},
   "source": [
    "#### Part Two"
   ]
  },
  {
   "cell_type": "code",
   "execution_count": 34,
   "metadata": {},
   "outputs": [
    {
     "name": "stdout",
     "output_type": "stream",
     "text": [
      "7861\n",
      "                                                #                                       #            \n",
      "#                                             ##    #                                                \n",
      "                                                                                                     \n",
      "                                              #                      #                               \n",
      "                               #                                                                     \n",
      "         #   #                                                                            #          \n",
      "                                              #                                                      \n",
      "    #                     #                                                                        # \n",
      "                            #                                                                        \n",
      "            #                                                                                        \n",
      "                                               #                                           #         \n",
      "                   #                                                                                 \n",
      "                                        #     # #                                                    \n",
      "                                                                              #                #     \n",
      "  #                       #                                  #                                      #\n",
      "                                                                                                     \n",
      "               #                     #                #           #      #                           \n",
      "                                                          #                                          \n",
      "                                                #                                                    \n",
      "                                                                                                     \n",
      "                                                       #               #   #        #                \n",
      "                     #                                          #                                    \n",
      "                                                                  # #                                \n",
      "                                                                 #                               #   \n",
      "                                                                                                     \n",
      "         #    #                                                                         #            \n",
      "                                     ###############################                                 \n",
      "                                     #                             #                                 \n",
      "                             #       #                             #                      #          \n",
      "                                     #                             #                                 \n",
      "                                     #                             #                   #             \n",
      "                            #        #              #              #                  #   #          \n",
      "                                     #             ###             #              #                  \n",
      "                                # #  #            #####            #                           #     \n",
      "                                     #           #######           #     #                    #      \n",
      "          # #                     #  #          #########          #               #          #  #   \n",
      " #   # #                             #            #####            #                              #  \n",
      "                   #                 #           #######           #                                 \n",
      "                                     #          #########          #                                 \n",
      "                                     #         ###########         #                                 \n",
      "                                     #        #############        #                                 \n",
      "                                     #          #########          #                    ##           \n",
      "                                     #         ###########         #          #                      \n",
      "                     #               #        #############        # #                               \n",
      "        #     #                      #       ###############       #                                 \n",
      "                                 ##  #      #################      #                                 \n",
      "    #                                #        #############        #               #                 \n",
      "                                     #       ###############       #                                 \n",
      "                                     #      #################      #                                 \n",
      "                                     #     ###################     #                                 \n",
      "                                     #    #####################    #                                 \n",
      "                                     #             ###             #                                 \n",
      "           #                         #             ###             #                   #  #          \n",
      "                         #           #             ###             #                                 \n",
      "                #       #            #                             #               #                 \n",
      "                                     #                             #              #       #          \n",
      "     #                               #                             #                                 \n",
      "                                     #                             #                                 \n",
      "                                     ###############################                              #  \n",
      "                                                                                                     \n",
      " #                                                                                               #   \n",
      "              #                                              #                               #       \n",
      "                             #                       #                                               \n",
      "                                                                                                     \n",
      "                                                                                                     \n",
      "                             #                                                                      #\n",
      "                                                                                                     \n",
      "          #                                                                     #                    \n",
      "                                  #                                      #                           \n",
      "                                                         #                        #                  \n",
      "                                                                                                     \n",
      "                                  #                                                                  \n",
      "                                                                                                     \n",
      "                                                                                                     \n",
      "                                                           #                                         \n",
      "                                                                                                     \n",
      "          #                                                                                          \n",
      "                                        #                                     #         #            \n",
      "                                                                                                     \n",
      "                                 #                                                              #    \n",
      "                                                                                                     \n",
      "            #                 #                                                                      \n",
      "                      #                                   #                           #              \n",
      "                                                                                      #              \n",
      "          #                                                                       #                  \n",
      "                   #                                                                                 \n",
      "                                                                                     #               \n",
      "                                                                                                 #   \n",
      "                                                                                                     \n",
      "                                                                                                #    \n",
      "                                                                                  #                  \n",
      "          #                                                                                          \n",
      "                                                                                                     \n",
      "                                                                                                     \n",
      "                 #                                                                       #          #\n",
      "             #                                                                                    #  \n",
      "          #                                                           #                              \n",
      "                                                                                                     \n",
      "                                                                                    #                \n",
      "                      #                                     #                                        \n",
      "                                                                                                     \n",
      "                                                                                #       #            \n",
      "  #                                            #                                #                    \n",
      "Real input: None\n"
     ]
    }
   ],
   "source": [
    "def part_two(input_lines, width=101, height=103):\n",
    "\trobots = parse(input_lines)\n",
    "\t# after visual inspection of frames, following pattern was found:\n",
    "\thorizontal = list(range(33, 10000, 103))\n",
    "\tvertical = list(range(84, 10000, 101))\n",
    "\tframes = []\n",
    "\tfor h in horizontal:\n",
    "\t\tfor v in vertical:\n",
    "\t\t\tif h == v:\n",
    "\t\t\t\tframes.append(h)\n",
    "\n",
    "\tfor i in frames:\n",
    "\t\tfinal_robots = []\n",
    "\t\tfor robot in robots:\n",
    "\t\t\tpos = np.array(robot[0], dtype=int)\n",
    "\t\t\tvel = np.array(robot[1], dtype=int)\n",
    "\t\t\tfinal_pos = pos + vel * i\n",
    "\t\t\tfinal_robots.append(tuple([final_pos[0] % width, final_pos[1] % height]))\n",
    "\n",
    "\t\tprint(i)\n",
    "\t\tdisplay_robots(final_robots, width, height)\n",
    "\n",
    "# print(\"Example input: \" + str(part_two(lines_ex1, 11, 7)))\n",
    "print(\"Real input: \" + str(part_two(lines)))"
   ]
  }
 ],
 "metadata": {
  "kernelspec": {
   "display_name": "Python 3",
   "language": "python",
   "name": "python3"
  },
  "language_info": {
   "codemirror_mode": {
    "name": "ipython",
    "version": 3
   },
   "file_extension": ".py",
   "mimetype": "text/x-python",
   "name": "python",
   "nbconvert_exporter": "python",
   "pygments_lexer": "ipython3",
   "version": "3.9.6"
  },
  "polyglot_notebook": {
   "kernelInfo": {
    "defaultKernelName": "csharp",
    "items": [
     {
      "aliases": [],
      "name": "csharp"
     }
    ]
   }
  }
 },
 "nbformat": 4,
 "nbformat_minor": 2
}
