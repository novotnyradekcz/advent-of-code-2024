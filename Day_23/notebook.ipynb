{
 "cells": [
  {
   "cell_type": "markdown",
   "metadata": {},
   "source": [
    "## Advent of Code 2024"
   ]
  },
  {
   "cell_type": "markdown",
   "metadata": {},
   "source": [
    "### Day 23: LAN Party"
   ]
  },
  {
   "cell_type": "markdown",
   "metadata": {},
   "source": [
    "#### Importing libraries"
   ]
  },
  {
   "cell_type": "code",
   "execution_count": 28,
   "metadata": {},
   "outputs": [],
   "source": [
    "from collections import defaultdict"
   ]
  },
  {
   "cell_type": "markdown",
   "metadata": {},
   "source": [
    "#### Loading example and input file"
   ]
  },
  {
   "cell_type": "code",
   "execution_count": 1,
   "metadata": {
    "dotnet_interactive": {
     "language": "fsharp"
    },
    "polyglot_notebook": {
     "kernelName": "fsharp"
    }
   },
   "outputs": [],
   "source": [
    "with open('example1.txt') as input_file:\n",
    "    lines_ex1 = input_file.readlines()\n",
    "\n",
    "# with open('example2.txt') as inputFile:\n",
    "#     lines_ex2 = inputFile.readlines()\n",
    "\n",
    "with open('input.txt') as input_file:\n",
    "    lines = input_file.readlines()"
   ]
  },
  {
   "cell_type": "markdown",
   "metadata": {},
   "source": [
    "#### Common functions"
   ]
  },
  {
   "cell_type": "code",
   "execution_count": 29,
   "metadata": {},
   "outputs": [],
   "source": [
    "def parse(lines):\n",
    "\tconnections = defaultdict(set)\n",
    "\tfor line in lines:\n",
    "\t\tconnections[line[:2]].add(line[3:].strip())\n",
    "\t\tconnections[line[3:].strip()].add(line[:2])\n",
    "\treturn connections"
   ]
  },
  {
   "cell_type": "markdown",
   "metadata": {},
   "source": [
    "#### Part One"
   ]
  },
  {
   "cell_type": "code",
   "execution_count": 37,
   "metadata": {
    "dotnet_interactive": {
     "language": "fsharp"
    },
    "polyglot_notebook": {
     "kernelName": "fsharp"
    }
   },
   "outputs": [
    {
     "name": "stdout",
     "output_type": "stream",
     "text": [
      "Example input: 7\n",
      "Real input: 1200\n"
     ]
    }
   ],
   "source": [
    "def part_one(input_lines):\n",
    "\tpcs = parse(input_lines)\n",
    "\tinterconnected = set()\n",
    "\tfor i in pcs:\n",
    "\t\tfor j in pcs[i]:\n",
    "\t\t\tfor k in pcs[j]:\n",
    "\t\t\t\tif k in pcs[i] and i < j < k and (i[0] == 't' or j[0] == 't' or k[0] == 't'):\n",
    "\t\t\t\t\tinterconnected.add((i, j, k))\n",
    "\treturn len(interconnected)\n",
    "\n",
    "print(\"Example input: \" + str(part_one(lines_ex1)))\n",
    "print(\"Real input: \" + str(part_one(lines)))"
   ]
  },
  {
   "cell_type": "markdown",
   "metadata": {},
   "source": [
    "#### Part Two"
   ]
  },
  {
   "cell_type": "code",
   "execution_count": 46,
   "metadata": {},
   "outputs": [
    {
     "name": "stdout",
     "output_type": "stream",
     "text": [
      "Example input: co,de,ka,ta\n",
      "Real input: ag,gh,hh,iv,jx,nq,oc,qm,rb,sm,vm,wu,zr\n"
     ]
    }
   ],
   "source": [
    "def part_two(input_lines):\n",
    "\tpcs = parse(input_lines)\n",
    "\t\n",
    "\tdef bron_kerbosch(R, P, X):\n",
    "\t\tif not P and not X:\n",
    "\t\t\tcliques.append(R)\n",
    "\t\t\treturn\n",
    "\t\tfor v in list(P):\n",
    "\t\t\tbron_kerbosch(R.union({v}), P.intersection(pcs[v]), X.intersection(pcs[v]))\n",
    "\t\t\tP.remove(v)\n",
    "\t\t\tX.add(v)\n",
    "\n",
    "\tnodes = set(pcs.keys())\n",
    "\tcliques = []\n",
    "\tbron_kerbosch(set(), nodes, set())\n",
    "\tlargest_party = max(cliques, key=len) if cliques else []\n",
    "\n",
    "\treturn ','.join(sorted(largest_party))\n",
    "\n",
    "print(\"Example input: \" + str(part_two(lines_ex1)))\n",
    "print(\"Real input: \" + str(part_two(lines)))"
   ]
  }
 ],
 "metadata": {
  "kernelspec": {
   "display_name": "Python 3",
   "language": "python",
   "name": "python3"
  },
  "language_info": {
   "codemirror_mode": {
    "name": "ipython",
    "version": 3
   },
   "file_extension": ".py",
   "mimetype": "text/x-python",
   "name": "python",
   "nbconvert_exporter": "python",
   "pygments_lexer": "ipython3",
   "version": "3.9.6"
  },
  "polyglot_notebook": {
   "kernelInfo": {
    "defaultKernelName": "csharp",
    "items": [
     {
      "aliases": [],
      "name": "csharp"
     }
    ]
   }
  }
 },
 "nbformat": 4,
 "nbformat_minor": 2
}
