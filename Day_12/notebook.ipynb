{
 "cells": [
  {
   "cell_type": "markdown",
   "metadata": {},
   "source": [
    "## Advent of Code 2024"
   ]
  },
  {
   "cell_type": "markdown",
   "metadata": {},
   "source": [
    "### Day 12: Garden Groups"
   ]
  },
  {
   "cell_type": "markdown",
   "metadata": {},
   "source": [
    "#### Importing libraries"
   ]
  },
  {
   "cell_type": "code",
   "execution_count": null,
   "metadata": {},
   "outputs": [],
   "source": []
  },
  {
   "cell_type": "markdown",
   "metadata": {},
   "source": [
    "#### Loading example and input file"
   ]
  },
  {
   "cell_type": "code",
   "execution_count": 1,
   "metadata": {
    "dotnet_interactive": {
     "language": "fsharp"
    },
    "polyglot_notebook": {
     "kernelName": "fsharp"
    }
   },
   "outputs": [],
   "source": [
    "with open('example1.txt') as input_file:\n",
    "    lines_ex1 = input_file.readlines()\n",
    "\n",
    "# with open('example2.txt') as inputFile:\n",
    "#     lines_ex2 = inputFile.readlines()\n",
    "\n",
    "with open('input.txt') as input_file:\n",
    "    lines = input_file.readlines()"
   ]
  },
  {
   "cell_type": "markdown",
   "metadata": {},
   "source": [
    "#### Common functions"
   ]
  },
  {
   "cell_type": "code",
   "execution_count": 4,
   "metadata": {},
   "outputs": [],
   "source": [
    "def parse(input_lines):\n",
    "\tvisited = set()\n",
    "\tplots = []\n",
    "\t\n",
    "\tfor i in range(len(input_lines)):\n",
    "\t\tfor j in range(len(input_lines[i]) - 1):\n",
    "\t\t\tif (i, j) not in visited:\n",
    "\t\t\t\tplot = set()\n",
    "\t\t\t\tcurrent = set([(i,  j)])\n",
    "\t\t\t\twhile len(current) > 0:\n",
    "\t\t\t\t\tnew_current = set()\n",
    "\t\t\t\t\tfor (k, l) in current:\n",
    "\t\t\t\t\t\tplot.add((k, l))\n",
    "\t\t\t\t\t\tvisited.add((k, l))\n",
    "\t\t\t\t\t\tif k - 1 >= 0 and (k - 1, l) not in visited and input_lines[k - 1][l] == input_lines[k][l]:\n",
    "\t\t\t\t\t\t\tnew_current.add((k - 1, l))\n",
    "\t\t\t\t\t\tif k + 1 < len(input_lines) and (k + 1, l) not in visited and input_lines[k + 1][l] == input_lines[k][l]:\n",
    "\t\t\t\t\t\t\tnew_current.add((k + 1, l))\n",
    "\t\t\t\t\t\tif l - 1 >= 0 and (k, l - 1) not in visited and input_lines[k][l - 1] == input_lines[k][l]:\n",
    "\t\t\t\t\t\t\tnew_current.add((k, l - 1))\n",
    "\t\t\t\t\t\tif l + 1 < len(input_lines[k]) and (k, l + 1) not in visited and input_lines[k][l + 1] == input_lines[k][l]:\n",
    "\t\t\t\t\t\t\tnew_current.add((k, l + 1))\n",
    "\t\t\t\t\tcurrent = new_current.copy()\n",
    "\t\t\t\tplots.append(plot)\n",
    "\t\n",
    "\treturn plots"
   ]
  },
  {
   "cell_type": "markdown",
   "metadata": {},
   "source": [
    "#### Part One"
   ]
  },
  {
   "cell_type": "code",
   "execution_count": 6,
   "metadata": {
    "dotnet_interactive": {
     "language": "fsharp"
    },
    "polyglot_notebook": {
     "kernelName": "fsharp"
    }
   },
   "outputs": [
    {
     "name": "stdout",
     "output_type": "stream",
     "text": [
      "Example1 input: 1930\n",
      "Real input: 1431440\n"
     ]
    }
   ],
   "source": [
    "def part_one(input_lines):\n",
    "\tplots = parse(input_lines)\n",
    "\t\n",
    "\tprice = 0\n",
    "\tfor plot in plots:\n",
    "\t\tarea = len(plot)\n",
    "\t\tperimeter = 0\n",
    "\t\tfor (i, j) in plot:\n",
    "\t\t\tif (i - 1, j) not in plot:\n",
    "\t\t\t\tperimeter += 1\n",
    "\t\t\tif (i + 1, j) not in plot:\n",
    "\t\t\t\tperimeter += 1\n",
    "\t\t\tif (i, j - 1) not in plot:\n",
    "\t\t\t\tperimeter += 1\n",
    "\t\t\tif (i, j + 1) not in plot:\n",
    "\t\t\t\tperimeter += 1\n",
    "\t\tprice += area * perimeter\n",
    "\n",
    "\treturn price\n",
    "\n",
    "\n",
    "print(\"Example1 input: \" + str(part_one(lines_ex1)))\n",
    "print(\"Real input: \" + str(part_one(lines)))"
   ]
  },
  {
   "cell_type": "markdown",
   "metadata": {},
   "source": [
    "#### Part Two"
   ]
  },
  {
   "cell_type": "code",
   "execution_count": 7,
   "metadata": {},
   "outputs": [
    {
     "name": "stdout",
     "output_type": "stream",
     "text": [
      "Example input: 1206\n",
      "Real input: 869070\n"
     ]
    }
   ],
   "source": [
    "def part_two(input_lines):\n",
    "\tplots = parse(input_lines)\n",
    "\t\n",
    "\tprice = 0\n",
    "\n",
    "\tfor plot in plots:\n",
    "\t\tarea = len(plot)\n",
    "\t\tperimeter = 0\n",
    "\t\tfor (i, j) in plot:\n",
    "\t\t\tif ((i - 1, j) not in plot and (i, j - 1) not in plot) or ((i - 1, j) in plot and (i, j - 1) in plot and (i - 1, j - 1) not in plot):\n",
    "\t\t\t\tperimeter += 1\n",
    "\t\t\tif ((i - 1, j) not in plot and (i, j + 1) not in plot) or ((i - 1, j) in plot and (i, j + 1) in plot and (i - 1, j + 1) not in plot):\n",
    "\t\t\t\tperimeter += 1\n",
    "\t\t\tif ((i + 1, j) not in plot and (i, j - 1) not in plot) or ((i + 1, j) in plot and (i, j - 1) in plot and (i + 1, j - 1) not in plot):\n",
    "\t\t\t\tperimeter += 1\n",
    "\t\t\tif ((i + 1, j) not in plot and (i, j + 1) not in plot) or ((i + 1, j) in plot and (i, j + 1) in plot and (i + 1, j + 1) not in plot):\n",
    "\t\t\t\tperimeter += 1\n",
    "\t\tprice += area * perimeter\n",
    "\n",
    "\treturn price\n",
    "\n",
    "print(\"Example input: \" + str(part_two(lines_ex1)))\n",
    "print(\"Real input: \" + str(part_two(lines)))"
   ]
  }
 ],
 "metadata": {
  "kernelspec": {
   "display_name": "Python 3",
   "language": "python",
   "name": "python3"
  },
  "language_info": {
   "codemirror_mode": {
    "name": "ipython",
    "version": 3
   },
   "file_extension": ".py",
   "mimetype": "text/x-python",
   "name": "python",
   "nbconvert_exporter": "python",
   "pygments_lexer": "ipython3",
   "version": "3.9.6"
  },
  "polyglot_notebook": {
   "kernelInfo": {
    "defaultKernelName": "csharp",
    "items": [
     {
      "aliases": [],
      "name": "csharp"
     }
    ]
   }
  }
 },
 "nbformat": 4,
 "nbformat_minor": 2
}
