{
 "cells": [
  {
   "cell_type": "markdown",
   "metadata": {},
   "source": [
    "## Advent of Code 2024"
   ]
  },
  {
   "cell_type": "markdown",
   "metadata": {},
   "source": [
    "### Day 5: Print Queue"
   ]
  },
  {
   "cell_type": "markdown",
   "metadata": {},
   "source": [
    "#### Importing libraries"
   ]
  },
  {
   "cell_type": "code",
   "execution_count": 30,
   "metadata": {},
   "outputs": [],
   "source": [
    "import functools"
   ]
  },
  {
   "cell_type": "markdown",
   "metadata": {},
   "source": [
    "#### Loading example and input file"
   ]
  },
  {
   "cell_type": "code",
   "execution_count": 31,
   "metadata": {
    "dotnet_interactive": {
     "language": "fsharp"
    },
    "polyglot_notebook": {
     "kernelName": "fsharp"
    }
   },
   "outputs": [],
   "source": [
    "with open('example1.txt') as inputFile:\n",
    "    linesEx1 = inputFile.readlines()\n",
    "\n",
    "# with open('example2.txt') as inputFile:\n",
    "#     linesEx2 = inputFile.read()\n",
    "\n",
    "with open('input.txt') as inputFile:\n",
    "    lines = inputFile.readlines()"
   ]
  },
  {
   "cell_type": "markdown",
   "metadata": {},
   "source": [
    "#### Common functions"
   ]
  },
  {
   "cell_type": "code",
   "execution_count": 32,
   "metadata": {},
   "outputs": [],
   "source": [
    "def parse(lines):\n",
    "\trules = []\n",
    "\tupdates = []\n",
    "\t\n",
    "\tfor line in lines:\n",
    "\t\tif '|' in line:\n",
    "\t\t\trule = line.strip().split('|')\n",
    "\t\t\trules.append(tuple([int(rule[0]), int(rule[1])]))\n",
    "\t\tif ',' in line:\n",
    "\t\t\tupdate = line.strip().split(',')\n",
    "\t\t\tupdate_int = []\n",
    "\t\t\tfor page in update:\n",
    "\t\t\t\tupdate_int.append(int(page))\n",
    "\t\t\tupdates.append(update_int)\n",
    "\t\n",
    "\treturn rules, updates\n"
   ]
  },
  {
   "cell_type": "markdown",
   "metadata": {},
   "source": [
    "#### Part One"
   ]
  },
  {
   "cell_type": "code",
   "execution_count": 33,
   "metadata": {
    "dotnet_interactive": {
     "language": "fsharp"
    },
    "polyglot_notebook": {
     "kernelName": "fsharp"
    }
   },
   "outputs": [
    {
     "name": "stdout",
     "output_type": "stream",
     "text": [
      "Example input: 143\n",
      "Real input: 3608\n"
     ]
    }
   ],
   "source": [
    "def part_one(input_lines):\n",
    "\trules, updates = parse(input_lines)\n",
    "\n",
    "\tresult = 0\n",
    "\tfor update in updates:\n",
    "\t\tpairs = []\n",
    "\t\tfor i in range(len(update) - 1):\n",
    "\t\t\tfor j in range(i + 1, len(update)):\n",
    "\t\t\t\tpairs.append(tuple([update[i], update[j]]))\n",
    "\t\tcorrect = 0\n",
    "\t\tfor pair in pairs:\n",
    "\t\t\tif pair in rules:\n",
    "\t\t\t\tcorrect += 1\n",
    "\t\tif correct == len(pairs):\n",
    "\t\t\tresult += update[len(update) // 2]\n",
    "\n",
    "\treturn result\n",
    "\n",
    "print(\"Example input: \" + str(part_one(linesEx1)))\n",
    "print(\"Real input: \" + str(part_one(lines)))"
   ]
  },
  {
   "cell_type": "markdown",
   "metadata": {},
   "source": [
    "#### Part Two"
   ]
  },
  {
   "cell_type": "code",
   "execution_count": 35,
   "metadata": {},
   "outputs": [
    {
     "name": "stdout",
     "output_type": "stream",
     "text": [
      "Example input: 123\n",
      "Real input: 4922\n"
     ]
    }
   ],
   "source": [
    "def part_two(input_lines):\n",
    "\trules, updates = parse(input_lines)\n",
    "\tresult = 0\n",
    "\n",
    "\tfor update in updates:\n",
    "\t\tpairs = []\n",
    "\t\tfor i in range(len(update) - 1):\n",
    "\t\t\tfor j in range(i + 1, len(update)):\n",
    "\t\t\t\tpairs.append(tuple([update[i], update[j]]))\n",
    "\t\tcorrect_pairs = 0\n",
    "\t\tfor pair in pairs:\n",
    "\t\t\tif pair in rules:\n",
    "\t\t\t\tcorrect_pairs += 1\n",
    "\t\tif correct_pairs != len(pairs):\n",
    "\t\t\tdef sort_fun(x, y):\n",
    "\t\t\t\tif (x, y) in rules:\n",
    "\t\t\t\t\treturn -1\n",
    "\t\t\t\tif (y, x) in rules:\n",
    "\t\t\t\t\treturn 1\n",
    "\t\t\t\treturn 0\n",
    "\t\t\t\n",
    "\t\t\tsorted_update = sorted(update, key=functools.cmp_to_key(sort_fun))\n",
    "\t\t\tresult += sorted_update[len(sorted_update) // 2]\n",
    "\n",
    "\treturn result\n",
    "\n",
    "print(\"Example input: \" + str(part_two(linesEx1)))\n",
    "print(\"Real input: \" + str(part_two(lines)))"
   ]
  }
 ],
 "metadata": {
  "kernelspec": {
   "display_name": "Python 3",
   "language": "python",
   "name": "python3"
  },
  "language_info": {
   "codemirror_mode": {
    "name": "ipython",
    "version": 3
   },
   "file_extension": ".py",
   "mimetype": "text/x-python",
   "name": "python",
   "nbconvert_exporter": "python",
   "pygments_lexer": "ipython3",
   "version": "3.9.6"
  },
  "polyglot_notebook": {
   "kernelInfo": {
    "defaultKernelName": "csharp",
    "items": [
     {
      "aliases": [],
      "name": "csharp"
     }
    ]
   }
  }
 },
 "nbformat": 4,
 "nbformat_minor": 2
}
