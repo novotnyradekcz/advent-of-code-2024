{
 "cells": [
  {
   "cell_type": "markdown",
   "metadata": {},
   "source": [
    "## Advent of Code 2024"
   ]
  },
  {
   "cell_type": "markdown",
   "metadata": {},
   "source": [
    "### Day 25: Code Chronicle"
   ]
  },
  {
   "cell_type": "markdown",
   "metadata": {},
   "source": [
    "#### Importing libraries"
   ]
  },
  {
   "cell_type": "code",
   "execution_count": 28,
   "metadata": {},
   "outputs": [],
   "source": []
  },
  {
   "cell_type": "markdown",
   "metadata": {},
   "source": [
    "#### Loading example and input file"
   ]
  },
  {
   "cell_type": "code",
   "execution_count": 10,
   "metadata": {
    "dotnet_interactive": {
     "language": "fsharp"
    },
    "polyglot_notebook": {
     "kernelName": "fsharp"
    }
   },
   "outputs": [],
   "source": [
    "with open('example1.txt') as input_file:\n",
    "    lines_ex1 = input_file.readlines()\n",
    "\n",
    "# with open('example2.txt') as inputFile:\n",
    "#     lines_ex2 = inputFile.readlines()\n",
    "\n",
    "with open('input.txt') as input_file:\n",
    "    lines = input_file.readlines()"
   ]
  },
  {
   "cell_type": "markdown",
   "metadata": {},
   "source": [
    "#### Common functions"
   ]
  },
  {
   "cell_type": "code",
   "execution_count": 13,
   "metadata": {},
   "outputs": [],
   "source": [
    "def parse(lines):\n",
    "\ti = 0\n",
    "\tkeys = set()\n",
    "\tlocks = set()\n",
    "\twhile i < len(lines):\n",
    "\t\tif lines[i] == '\\n':\n",
    "\t\t\ti += 1\n",
    "\t\telse:\n",
    "\t\t\tpins = []\n",
    "\t\t\tpins.append(lines[i+1][0] + lines[i+2][0] + lines[i+3][0] + lines[i+4][0] + lines[i+5][0])\n",
    "\t\t\tpins.append(lines[i+1][1] + lines[i+2][1] + lines[i+3][1] + lines[i+4][1] + lines[i+5][1])\n",
    "\t\t\tpins.append(lines[i+1][2] + lines[i+2][2] + lines[i+3][2] + lines[i+4][2] + lines[i+5][2])\n",
    "\t\t\tpins.append(lines[i+1][3] + lines[i+2][3] + lines[i+3][3] + lines[i+4][3] + lines[i+5][3])\n",
    "\t\t\tpins.append(lines[i+1][4] + lines[i+2][4] + lines[i+3][4] + lines[i+4][4] + lines[i+5][4])\n",
    "\t\t\tif lines[i].strip() == '.....':\n",
    "\t\t\t\tkey = []\n",
    "\t\t\t\tfor pin in pins:\n",
    "\t\t\t\t\tkey.append(pin.count('#'))\n",
    "\t\t\t\tkeys.add(tuple(key))\n",
    "\t\t\telif lines[i].strip() == '#####':\n",
    "\t\t\t\tlock = []\n",
    "\t\t\t\tfor pin in pins:\n",
    "\t\t\t\t\tlock.append(pin.count('#'))\n",
    "\t\t\t\tlocks.add(tuple(lock))\n",
    "\t\t\ti += 7\n",
    "\n",
    "\treturn keys, locks"
   ]
  },
  {
   "cell_type": "markdown",
   "metadata": {},
   "source": [
    "#### Part One"
   ]
  },
  {
   "cell_type": "code",
   "execution_count": 14,
   "metadata": {
    "dotnet_interactive": {
     "language": "fsharp"
    },
    "polyglot_notebook": {
     "kernelName": "fsharp"
    }
   },
   "outputs": [
    {
     "name": "stdout",
     "output_type": "stream",
     "text": [
      "Example input: 3\n",
      "Real input: 3671\n"
     ]
    }
   ],
   "source": [
    "def part_one(input_lines):\n",
    "\tkeys, locks = parse(input_lines)\n",
    "\tfitting_pairs = 0\n",
    "\tfor key in keys:\n",
    "\t\tfor lock in locks:\n",
    "\t\t\tif key[0] + lock[0] <= 5 and key[1] + lock[1] <= 5 and key[2] + lock[2] <= 5 and key[3] + lock[3] <= 5 and key[4] + lock[4] <= 5:\n",
    "\t\t\t\tfitting_pairs += 1\n",
    "\treturn fitting_pairs\n",
    "\n",
    "print(\"Example input: \" + str(part_one(lines_ex1)))\n",
    "print(\"Real input: \" + str(part_one(lines)))"
   ]
  }
 ],
 "metadata": {
  "kernelspec": {
   "display_name": "Python 3",
   "language": "python",
   "name": "python3"
  },
  "language_info": {
   "codemirror_mode": {
    "name": "ipython",
    "version": 3
   },
   "file_extension": ".py",
   "mimetype": "text/x-python",
   "name": "python",
   "nbconvert_exporter": "python",
   "pygments_lexer": "ipython3",
   "version": "3.9.6"
  },
  "polyglot_notebook": {
   "kernelInfo": {
    "defaultKernelName": "csharp",
    "items": [
     {
      "aliases": [],
      "name": "csharp"
     }
    ]
   }
  }
 },
 "nbformat": 4,
 "nbformat_minor": 2
}
