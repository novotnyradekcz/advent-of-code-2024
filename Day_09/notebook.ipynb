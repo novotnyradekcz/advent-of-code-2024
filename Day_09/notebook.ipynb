{
 "cells": [
  {
   "cell_type": "markdown",
   "metadata": {},
   "source": [
    "## Advent of Code 2024"
   ]
  },
  {
   "cell_type": "markdown",
   "metadata": {},
   "source": [
    "### Day 9: Disk Fragmenter"
   ]
  },
  {
   "cell_type": "markdown",
   "metadata": {},
   "source": [
    "#### Importing libraries"
   ]
  },
  {
   "cell_type": "code",
   "execution_count": 33,
   "metadata": {},
   "outputs": [],
   "source": [
    "import itertools"
   ]
  },
  {
   "cell_type": "markdown",
   "metadata": {},
   "source": [
    "#### Loading example and input file"
   ]
  },
  {
   "cell_type": "code",
   "execution_count": 99,
   "metadata": {
    "dotnet_interactive": {
     "language": "fsharp"
    },
    "polyglot_notebook": {
     "kernelName": "fsharp"
    }
   },
   "outputs": [],
   "source": [
    "with open('example1.txt') as input_file:\n",
    "    lines_ex1 = input_file.read()\n",
    "\n",
    "# with open('example2.txt') as inputFile:\n",
    "#     linesEx2 = inputFile.read()\n",
    "\n",
    "with open('input.txt') as input_file:\n",
    "    lines = input_file.read()"
   ]
  },
  {
   "cell_type": "markdown",
   "metadata": {},
   "source": [
    "#### Common functions"
   ]
  },
  {
   "cell_type": "code",
   "execution_count": 118,
   "metadata": {},
   "outputs": [],
   "source": [
    "def parse(disk_map):\n",
    "\tdecoded_map = []\n",
    "\tfor i in range(len(disk_map) - 1):\n",
    "\t\tif i % 2 == 0:\n",
    "\t\t\tdecoded_map += [[i // 2] * int(disk_map[i])]\n",
    "\t\telse:\n",
    "\t\t\tdecoded_map += [[-1] * int(disk_map[i])]\n",
    "\tfor file in decoded_map:\n",
    "\t\tif file == []:\n",
    "\t\t\tdecoded_map.remove(file)\n",
    "\treturn decoded_map"
   ]
  },
  {
   "cell_type": "markdown",
   "metadata": {},
   "source": [
    "#### Part One"
   ]
  },
  {
   "cell_type": "code",
   "execution_count": 119,
   "metadata": {
    "dotnet_interactive": {
     "language": "fsharp"
    },
    "polyglot_notebook": {
     "kernelName": "fsharp"
    }
   },
   "outputs": [
    {
     "name": "stdout",
     "output_type": "stream",
     "text": [
      "Example input: 1928\n",
      "Real input: 6446899523367\n"
     ]
    }
   ],
   "source": [
    "def part_one(input_lines):\n",
    "\tdecoded_map = list(itertools.chain(*parse(input_lines)))\n",
    "\t# print(decoded_map)\n",
    "\n",
    "\tupdated_map = decoded_map.copy()\n",
    "\tcurrent_position = 0\n",
    "\ti = len(updated_map) - 1\n",
    "\twhile i > current_position:\n",
    "\t\twhile current_position < len(updated_map) and updated_map[current_position] >= 0:\n",
    "\t\t\tcurrent_position += 1\n",
    "\t\twhile updated_map[i] < 0 and i > 0:\n",
    "\t\t\ti -= 1\n",
    "\t\tif i <= current_position:\n",
    "\t\t\tbreak\n",
    "\t\tupdated_map[current_position] = updated_map[i]\n",
    "\t\tupdated_map[i] = -1\n",
    "\t\tcurrent_position += 1\n",
    "\t\ti -= 1\n",
    "\t# print(updated_map)\n",
    "\n",
    "\tchecksum = 0\n",
    "\tfor i in range(len(updated_map)):\n",
    "\t\tif updated_map[i] >= 0:\n",
    "\t\t\tchecksum += updated_map[i] * i\n",
    "\t\t\n",
    "\treturn checksum\n",
    "\n",
    "print(\"Example input: \" + str(part_one(lines_ex1)))\n",
    "print(\"Real input: \" + str(part_one(lines)))"
   ]
  },
  {
   "cell_type": "markdown",
   "metadata": {},
   "source": [
    "#### Part Two"
   ]
  },
  {
   "cell_type": "code",
   "execution_count": 122,
   "metadata": {},
   "outputs": [
    {
     "name": "stdout",
     "output_type": "stream",
     "text": [
      "Example input: 2858\n",
      "Real input: 6478232739671\n"
     ]
    }
   ],
   "source": [
    "def part_two(input_lines):\n",
    "\tdecoded_map = parse(input_lines)\n",
    "\t# print(decoded_map)\n",
    "\n",
    "\tupdated_map = decoded_map.copy()\n",
    "\ti = 0\n",
    "\tj = len(updated_map) - 1\n",
    "\twhile j > 0:\n",
    "\t\ti = 0\n",
    "\t\twhile i < len(updated_map) and updated_map[i][0] >= 0:\n",
    "\t\t\ti += 1\n",
    "\t\twhile j >= 0 and updated_map[j][0] < 0:\n",
    "\t\t\tj -= 1\n",
    "\t\tif i >= j:\n",
    "\t\t\tbreak\n",
    "\t\twhile i < j:\n",
    "\t\t\tif updated_map[i][0] < 0 and len(updated_map[i]) >= len(updated_map[j]):\n",
    "\t\t\t\tfor k in range(len(updated_map[j])):\n",
    "\t\t\t\t\tupdated_map[i][k] = updated_map[j][k]\n",
    "\t\t\t\t\tupdated_map[j][k] = -1\n",
    "\t\t\t\tif len(updated_map[i]) > len(updated_map[j]):\n",
    "\t\t\t\t\tupdated_map.insert(i + 1, updated_map[i][len(updated_map[j]):])\n",
    "\t\t\t\t\tj += 1\n",
    "\t\t\t\t\tupdated_map[i] = updated_map[i][:len(updated_map[j])]\n",
    "\t\t\t\tbreak\n",
    "\t\t\telse:\n",
    "\t\t\t\ti += 1\n",
    "\t\tj -= 1\n",
    "\n",
    "\t# print(updated_map)\n",
    "\tflattened_map = list(itertools.chain(*updated_map))\n",
    "\tchecksum = 0\n",
    "\tfor i in range(len(flattened_map)):\n",
    "\t\tif flattened_map[i] >= 0:\n",
    "\t\t\tchecksum += flattened_map[i] * i\n",
    "\t\t\n",
    "\treturn checksum\n",
    "\n",
    "print(\"Example input: \" + str(part_two(lines_ex1)))\n",
    "print(\"Real input: \" + str(part_two(lines)))"
   ]
  }
 ],
 "metadata": {
  "kernelspec": {
   "display_name": "Python 3",
   "language": "python",
   "name": "python3"
  },
  "language_info": {
   "codemirror_mode": {
    "name": "ipython",
    "version": 3
   },
   "file_extension": ".py",
   "mimetype": "text/x-python",
   "name": "python",
   "nbconvert_exporter": "python",
   "pygments_lexer": "ipython3",
   "version": "3.9.6"
  },
  "polyglot_notebook": {
   "kernelInfo": {
    "defaultKernelName": "csharp",
    "items": [
     {
      "aliases": [],
      "name": "csharp"
     }
    ]
   }
  }
 },
 "nbformat": 4,
 "nbformat_minor": 2
}
