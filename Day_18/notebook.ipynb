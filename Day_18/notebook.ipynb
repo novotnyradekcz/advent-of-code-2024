{
 "cells": [
  {
   "cell_type": "markdown",
   "metadata": {},
   "source": [
    "## Advent of Code 2024"
   ]
  },
  {
   "cell_type": "markdown",
   "metadata": {},
   "source": [
    "### Day 18: RAM Run"
   ]
  },
  {
   "cell_type": "markdown",
   "metadata": {},
   "source": [
    "#### Importing libraries"
   ]
  },
  {
   "cell_type": "code",
   "execution_count": 26,
   "metadata": {},
   "outputs": [],
   "source": [
    "from collections import deque"
   ]
  },
  {
   "cell_type": "markdown",
   "metadata": {},
   "source": [
    "#### Loading example and input file"
   ]
  },
  {
   "cell_type": "code",
   "execution_count": 27,
   "metadata": {
    "dotnet_interactive": {
     "language": "fsharp"
    },
    "polyglot_notebook": {
     "kernelName": "fsharp"
    }
   },
   "outputs": [],
   "source": [
    "with open('example1.txt') as input_file:\n",
    "    lines_ex1 = input_file.readlines()\n",
    "\n",
    "# with open('example2.txt') as inputFile:\n",
    "#     lines_ex2 = inputFile.readlines()\n",
    "\n",
    "with open('input.txt') as input_file:\n",
    "    lines = input_file.readlines()"
   ]
  },
  {
   "cell_type": "markdown",
   "metadata": {},
   "source": [
    "#### Common functions"
   ]
  },
  {
   "cell_type": "code",
   "execution_count": 28,
   "metadata": {},
   "outputs": [],
   "source": [
    "def parse(lines):\n",
    "\tcoordinates = []\n",
    "\tfor line in lines:\n",
    "\t\tcoordinate = line.strip().split(',')\n",
    "\t\tcoordinates.append((int(coordinate[0]), int(coordinate[1])))\n",
    "\treturn coordinates\n",
    "\n",
    "def find_shortest_path(maze, start, end):\n",
    "\tqueue = deque([(start, 0)])\n",
    "\tvisited = set()\n",
    "\n",
    "\twhile queue:\n",
    "\t\tposition, steps = queue.popleft()\n",
    "\t\tif position == end:\n",
    "\t\t\treturn steps\n",
    "\t\tvisited.add(position)\n",
    "\n",
    "\t\tfor dx, dy in [(-1, 0), (1, 0), (0, -1), (0, 1)]:\n",
    "\t\t\tneighbor = (position[0] + dx, position[1] + dy)\n",
    "\t\t\tif neighbor in maze and neighbor not in visited:\n",
    "\t\t\t\tvisited.add(neighbor)\n",
    "\t\t\t\tqueue.append((neighbor, steps + 1))\n",
    "\n",
    "\treturn None"
   ]
  },
  {
   "cell_type": "markdown",
   "metadata": {},
   "source": [
    "#### Part One"
   ]
  },
  {
   "cell_type": "code",
   "execution_count": 30,
   "metadata": {
    "dotnet_interactive": {
     "language": "fsharp"
    },
    "polyglot_notebook": {
     "kernelName": "fsharp"
    }
   },
   "outputs": [
    {
     "name": "stdout",
     "output_type": "stream",
     "text": [
      "Example1 input: 22\n",
      "Real input: 226\n"
     ]
    }
   ],
   "source": [
    "def part_one(input_lines, size=71, byte_count=1024):\n",
    "\tbytes = parse(input_lines)\n",
    "\n",
    "\tmaze = set()\n",
    "\tfor i in range(size):\n",
    "\t\tfor j in range(size):\n",
    "\t\t\tif (i, j) not in bytes[:byte_count]:\n",
    "\t\t\t\tmaze.add((i, j))\n",
    "\n",
    "\tstart = (0, 0)\n",
    "\tend = (size - 1, size - 1)\n",
    "\n",
    "\treturn find_shortest_path(maze, start, end)\n",
    "\n",
    "print(\"Example1 input: \" + str(part_one(lines_ex1, 7, 12)))\n",
    "# print(\"Example2 input: \" + str(part_one(lines_ex2)))\n",
    "print(\"Real input: \" + str(part_one(lines)))"
   ]
  },
  {
   "cell_type": "markdown",
   "metadata": {},
   "source": [
    "#### Part Two"
   ]
  },
  {
   "cell_type": "code",
   "execution_count": 31,
   "metadata": {},
   "outputs": [
    {
     "name": "stdout",
     "output_type": "stream",
     "text": [
      "Real input: 60,46\n",
      "\n"
     ]
    }
   ],
   "source": [
    "def part_two(input_lines, size=71, byte_count=1024):\n",
    "\tbytes = parse(input_lines)\n",
    "\n",
    "\tstart = (0, 0)\n",
    "\tend = (size - 1, size - 1)\n",
    "\n",
    "\tfor i in range(byte_count, len(bytes)):\n",
    "\t\tmaze = set()\n",
    "\t\tfor j in range(size):\n",
    "\t\t\tfor k in range(size):\n",
    "\t\t\t\tif (j, k) not in bytes[:i]:\n",
    "\t\t\t\t\tmaze.add((j, k))\n",
    "\n",
    "\t\tresult = find_shortest_path(maze, start, end)\n",
    "\t\tif result is None:\n",
    "\t\t\treturn input_lines[i - 1]\n",
    "\n",
    "\treturn None\n",
    "\n",
    "# print(\"Example1 input: \" + str(part_two(lines_ex1)))\n",
    "# print(\"Example2 input: \" + str(part_two(lines_ex2)))\n",
    "print(\"Real input: \" + str(part_two(lines)))"
   ]
  }
 ],
 "metadata": {
  "kernelspec": {
   "display_name": "Python 3",
   "language": "python",
   "name": "python3"
  },
  "language_info": {
   "codemirror_mode": {
    "name": "ipython",
    "version": 3
   },
   "file_extension": ".py",
   "mimetype": "text/x-python",
   "name": "python",
   "nbconvert_exporter": "python",
   "pygments_lexer": "ipython3",
   "version": "3.9.6"
  },
  "polyglot_notebook": {
   "kernelInfo": {
    "defaultKernelName": "csharp",
    "items": [
     {
      "aliases": [],
      "name": "csharp"
     }
    ]
   }
  }
 },
 "nbformat": 4,
 "nbformat_minor": 2
}
